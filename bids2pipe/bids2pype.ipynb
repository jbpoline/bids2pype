{
 "cells": [
  {
   "cell_type": "code",
   "execution_count": 1,
   "metadata": {
    "collapsed": false
   },
   "outputs": [
    {
     "data": {
      "text/plain": [
       "<module 'utils' from 'utils.pyc'>"
      ]
     },
     "execution_count": 1,
     "metadata": {},
     "output_type": "execute_result"
    }
   ],
   "source": [
    "from __future__ import print_function, division\n",
    "import pprint\n",
    "import os \n",
    "import fnmatch\n",
    "#import errno\n",
    "import os.path as osp\n",
    "import json\n",
    "#import re\n",
    "import glob as gb\n",
    "from six import string_types\n",
    "\n",
    "import utils\n",
    "reload(utils)"
   ]
  },
  {
   "cell_type": "code",
   "execution_count": 2,
   "metadata": {
    "collapsed": false
   },
   "outputs": [],
   "source": [
    "pp = pprint.PrettyPrinter(indent=2)"
   ]
  },
  {
   "cell_type": "code",
   "execution_count": 3,
   "metadata": {
    "collapsed": false
   },
   "outputs": [
    {
     "name": "stdout",
     "output_type": "stream",
     "text": [
      "['/home/jb/data/bids/ds105/sub-2/func/models/sub-2_model.json', '/home/jb/data/bids/ds105/models/sub-all_model.json']\n"
     ]
    }
   ],
   "source": [
    "#- testing\n",
    "base_dir = '/home/jb/data/bids/ds105'\n",
    "model_pattern = \"sub*_model.json\"\n",
    "\n",
    "all_jsons = utils.glob_recursive(base_dir, model_pattern)\n",
    "print(all_jsons)\n",
    "json_model=all_jsons[0]"
   ]
  },
  {
   "cell_type": "code",
   "execution_count": 4,
   "metadata": {
    "collapsed": false
   },
   "outputs": [],
   "source": [
    "data = utils.get_json_model_Ydata(all_jsons[0], level='Run', verbose=utils.VERB['none'])"
   ]
  },
  {
   "cell_type": "code",
   "execution_count": 5,
   "metadata": {
    "collapsed": false
   },
   "outputs": [
    {
     "data": {
      "text/plain": [
       "['/home/jb/data/bids/ds105/sub-2/func/sub-2_task-objectviewing_run-03_bold.nii.gz',\n",
       " '/home/jb/data/bids/ds105/sub-2/func/sub-2_task-objectviewing_run-05_bold.nii.gz',\n",
       " '/home/jb/data/bids/ds105/sub-2/func/sub-2_task-objectviewing_run-12_bold.nii.gz',\n",
       " '/home/jb/data/bids/ds105/sub-2/func/sub-2_task-objectviewing_run-02_bold.nii.gz',\n",
       " '/home/jb/data/bids/ds105/sub-2/func/sub-2_task-objectviewing_run-10_bold.nii.gz',\n",
       " '/home/jb/data/bids/ds105/sub-2/func/sub-2_task-objectviewing_run-08_bold.nii.gz',\n",
       " '/home/jb/data/bids/ds105/sub-2/func/sub-2_task-objectviewing_run-07_bold.nii.gz',\n",
       " '/home/jb/data/bids/ds105/sub-2/func/sub-2_task-objectviewing_run-04_bold.nii.gz',\n",
       " '/home/jb/data/bids/ds105/sub-2/func/sub-2_task-objectviewing_run-11_bold.nii.gz',\n",
       " '/home/jb/data/bids/ds105/sub-2/func/sub-2_task-objectviewing_run-09_bold.nii.gz',\n",
       " '/home/jb/data/bids/ds105/sub-2/func/sub-2_task-objectviewing_run-01_bold.nii.gz',\n",
       " '/home/jb/data/bids/ds105/sub-2/func/sub-2_task-objectviewing_run-06_bold.nii.gz']"
      ]
     },
     "execution_count": 5,
     "metadata": {},
     "output_type": "execute_result"
    }
   ],
   "source": [
    "data"
   ]
  },
  {
   "cell_type": "code",
   "execution_count": 6,
   "metadata": {
    "collapsed": false
   },
   "outputs": [],
   "source": [
    "model_pattern = \"sub*_model.json\"\n",
    "model_data = utils.get_funcs_models(base_dir, model_pattern, verbose=utils.VERB['none'])"
   ]
  },
  {
   "cell_type": "code",
   "execution_count": 7,
   "metadata": {
    "collapsed": false
   },
   "outputs": [
    {
     "name": "stdout",
     "output_type": "stream",
     "text": [
      "{ u'Columns': { u'bottle': { u'HRF': True,\n",
      "                             u'Level': u'bottle',\n",
      "                             u'Variable': u'trial_type'},\n",
      "                u'cat': { u'HRF': True,\n",
      "                          u'Level': u'cat',\n",
      "                          u'Variable': u'trial_type'},\n",
      "                u'chair': { u'HRF': True,\n",
      "                            u'Level': u'chair',\n",
      "                            u'Variable': u'trial_type'},\n",
      "                u'face': { u'HRF': True,\n",
      "                           u'Level': u'face',\n",
      "                           u'Variable': u'trial_type'},\n",
      "                u'house': { u'HRF': True,\n",
      "                            u'Level': u'house',\n",
      "                            u'Variable': u'trial_type'},\n",
      "                u'scissors': { u'HRF': True,\n",
      "                               u'Level': u'scissors',\n",
      "                               u'Variable': u'trial_type'},\n",
      "                u'scrambledpix': { u'HRF': True,\n",
      "                                   u'Level': u'scrambledpix',\n",
      "                                   u'Variable': u'trial_type'}},\n",
      "  u'Contrasts': { u'pos_vs_neg_contrast': { u'Columns': [u'face', u'house'],\n",
      "                                            u'Weights': [1, -1]}},\n",
      "  u'DependentVariable': u'task-objectviewing',\n",
      "  u'Level': u'Run',\n",
      "  u'Name': u'run_model'}\n"
     ]
    }
   ],
   "source": [
    "datafile = '/home/jb/data/bids/ds105/sub-1/func/sub-1_task-objectviewing_run-01_bold.nii.gz'\n",
    "model_dict = model_data[datafile]\n",
    "pp.pprint(model_dict)"
   ]
  },
  {
   "cell_type": "code",
   "execution_count": 8,
   "metadata": {
    "collapsed": false
   },
   "outputs": [
    {
     "name": "stdout",
     "output_type": "stream",
     "text": [
      "/home/jb/data/bids/ds105/sub-1/func/sub-1_task-objectviewing_run-01_events.tsv\n"
     ]
    }
   ],
   "source": [
    "import pandas as pd\n",
    "tsv_file = datafile.split('_bold.nii')[0] + '_events.tsv'\n",
    "assert osp.isfile(tsv_file), \"{} is not a file \".format(tsv_file)\n",
    "print(tsv_file)"
   ]
  },
  {
   "cell_type": "code",
   "execution_count": 9,
   "metadata": {
    "collapsed": false
   },
   "outputs": [
    {
     "name": "stdout",
     "output_type": "stream",
     "text": [
      "[u'Contrasts', u'DependentVariable', u'Name', u'Columns', u'Level']\n",
      "{ u'bottle': { u'HRF': True, u'Level': u'bottle', u'Variable': u'trial_type'},\n",
      "  u'cat': { u'HRF': True, u'Level': u'cat', u'Variable': u'trial_type'},\n",
      "  u'chair': { u'HRF': True, u'Level': u'chair', u'Variable': u'trial_type'},\n",
      "  u'face': { u'HRF': True, u'Level': u'face', u'Variable': u'trial_type'},\n",
      "  u'house': { u'HRF': True, u'Level': u'house', u'Variable': u'trial_type'},\n",
      "  u'scissors': { u'HRF': True,\n",
      "                 u'Level': u'scissors',\n",
      "                 u'Variable': u'trial_type'},\n",
      "  u'scrambledpix': { u'HRF': True,\n",
      "                     u'Level': u'scrambledpix',\n",
      "                     u'Variable': u'trial_type'}}\n"
     ]
    }
   ],
   "source": [
    "model_dict = model_data[datafile]\n",
    "print(model_dict.keys())\n",
    "regressors = model_dict['Columns']\n",
    "pp.pprint(regressors)"
   ]
  },
  {
   "cell_type": "code",
   "execution_count": 10,
   "metadata": {
    "collapsed": false
   },
   "outputs": [],
   "source": [
    "condition_names, list_dicts = utils.get_run_conditions(datafile, model_dict)"
   ]
  },
  {
   "cell_type": "code",
   "execution_count": 11,
   "metadata": {
    "collapsed": false
   },
   "outputs": [
    {
     "data": {
      "text/plain": [
       "[u'house', u'scrambledpix', u'cat', u'bottle', u'scissors', u'chair', u'face']"
      ]
     },
     "execution_count": 11,
     "metadata": {},
     "output_type": "execute_result"
    }
   ],
   "source": [
    "condition_names"
   ]
  },
  {
   "cell_type": "code",
   "execution_count": 12,
   "metadata": {
    "collapsed": false
   },
   "outputs": [
    {
     "name": "stdout",
     "output_type": "stream",
     "text": [
      "[ { 'HRF': True,\n",
      "    'duration': [0.5, 0.5, 0.5, 0.5, 0.5, 0.5, 0.5, 0.5, 0.5, 0.5, 0.5, 0.5],\n",
      "    'name': u'house',\n",
      "    'onset': [ 156.0,\n",
      "               158.0,\n",
      "               160.0,\n",
      "               162.0,\n",
      "               164.0,\n",
      "               166.0,\n",
      "               168.0,\n",
      "               170.0,\n",
      "               172.0,\n",
      "               174.0,\n",
      "               176.0,\n",
      "               178.0]},\n",
      "  { 'HRF': True,\n",
      "    'duration': [0.5, 0.5, 0.5, 0.5, 0.5, 0.5, 0.5, 0.5, 0.5, 0.5, 0.5, 0.5],\n",
      "    'name': u'scrambledpix',\n",
      "    'onset': [ 192.0,\n",
      "               194.0,\n",
      "               196.0,\n",
      "               198.0,\n",
      "               200.0,\n",
      "               202.0,\n",
      "               204.0,\n",
      "               206.0,\n",
      "               208.0,\n",
      "               210.0,\n",
      "               212.0,\n",
      "               214.0]},\n",
      "  { 'HRF': True,\n",
      "    'duration': [0.5, 0.5, 0.5, 0.5, 0.5, 0.5, 0.5, 0.5, 0.5, 0.5, 0.5, 0.5],\n",
      "    'name': u'cat',\n",
      "    'onset': [ 84.0,\n",
      "               86.0,\n",
      "               88.0,\n",
      "               90.0,\n",
      "               92.0,\n",
      "               94.0,\n",
      "               96.0,\n",
      "               98.0,\n",
      "               100.0,\n",
      "               102.0,\n",
      "               104.0,\n",
      "               106.0]},\n",
      "  { 'HRF': True,\n",
      "    'duration': [0.5, 0.5, 0.5, 0.5, 0.5, 0.5, 0.5, 0.5, 0.5, 0.5, 0.5, 0.5],\n",
      "    'name': u'bottle',\n",
      "    'onset': [ 228.0,\n",
      "               230.0,\n",
      "               232.0,\n",
      "               234.0,\n",
      "               236.0,\n",
      "               238.0,\n",
      "               240.0,\n",
      "               242.0,\n",
      "               244.0,\n",
      "               246.0,\n",
      "               248.0,\n",
      "               250.0]},\n",
      "  { 'HRF': True,\n",
      "    'duration': [0.5, 0.5, 0.5, 0.5, 0.5, 0.5, 0.5, 0.5, 0.5, 0.5, 0.5, 0.5],\n",
      "    'name': u'scissors',\n",
      "    'onset': [ 12.0,\n",
      "               14.0,\n",
      "               16.0,\n",
      "               18.0,\n",
      "               20.0,\n",
      "               22.0,\n",
      "               24.0,\n",
      "               26.0,\n",
      "               28.0,\n",
      "               30.0,\n",
      "               32.0,\n",
      "               34.0]},\n",
      "  { 'HRF': True,\n",
      "    'duration': [0.5, 0.5, 0.5, 0.5, 0.5, 0.5, 0.5, 0.5, 0.5, 0.5, 0.5, 0.5],\n",
      "    'name': u'chair',\n",
      "    'onset': [ 264.0,\n",
      "               266.0,\n",
      "               268.0,\n",
      "               270.0,\n",
      "               272.0,\n",
      "               274.0,\n",
      "               276.0,\n",
      "               278.0,\n",
      "               280.0,\n",
      "               282.0,\n",
      "               284.0,\n",
      "               286.0]},\n",
      "  { 'HRF': True,\n",
      "    'duration': [0.5, 0.5, 0.5, 0.5, 0.5, 0.5, 0.5, 0.5, 0.5, 0.5, 0.5, 0.5],\n",
      "    'name': u'face',\n",
      "    'onset': [ 48.0,\n",
      "               50.0,\n",
      "               52.0,\n",
      "               54.0,\n",
      "               56.0,\n",
      "               58.0,\n",
      "               60.0,\n",
      "               62.0,\n",
      "               64.0,\n",
      "               66.0,\n",
      "               68.0,\n",
      "               70.0]}]\n"
     ]
    }
   ],
   "source": [
    "pp.pprint(list_dicts)"
   ]
  },
  {
   "cell_type": "code",
   "execution_count": null,
   "metadata": {
    "collapsed": true
   },
   "outputs": [],
   "source": []
  }
 ],
 "metadata": {
  "kernelspec": {
   "display_name": "Python 2",
   "language": "python",
   "name": "python2"
  },
  "language_info": {
   "codemirror_mode": {
    "name": "ipython",
    "version": 2
   },
   "file_extension": ".py",
   "mimetype": "text/x-python",
   "name": "python",
   "nbconvert_exporter": "python",
   "pygments_lexer": "ipython2",
   "version": "2.7.6"
  }
 },
 "nbformat": 4,
 "nbformat_minor": 0
}
