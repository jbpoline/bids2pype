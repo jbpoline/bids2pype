{
 "cells": [
  {
   "cell_type": "code",
   "execution_count": 20,
   "metadata": {
    "collapsed": false
   },
   "outputs": [
    {
     "data": {
      "text/plain": [
       "<module 'utils' from 'utils.py'>"
      ]
     },
     "execution_count": 20,
     "metadata": {},
     "output_type": "execute_result"
    }
   ],
   "source": [
    "from __future__ import print_function, division\n",
    "import pprint\n",
    "import os \n",
    "import fnmatch\n",
    "#import errno\n",
    "import os.path as osp\n",
    "import json\n",
    "#import re\n",
    "import glob as gb\n",
    "from six import string_types\n",
    "from nipype.interfaces.base import Bunch\n",
    "\n",
    "pp = pprint.PrettyPrinter(indent=2)\n",
    "\n",
    "import utils\n",
    "reload(utils)"
   ]
  },
  {
   "cell_type": "markdown",
   "metadata": {},
   "source": [
    "## Testing the model export for ds005 to match Russ inputs"
   ]
  },
  {
   "cell_type": "code",
   "execution_count": 21,
   "metadata": {
    "collapsed": false
   },
   "outputs": [
    {
     "name": "stdout",
     "output_type": "stream",
     "text": [
      "{u'Contrasts': {u'param-loss-neg': {u'Weights': [-1], u'Columns': [u'param-loss'], u'Statistic': u'T'}, u'param-gain': {u'Weights': [1], u'Columns': [u'param-gain'], u'Statistic': u'T'}, u'task>Baseline': {u'Weights': [1], u'Columns': [u'task'], u'Statistic': u'T'}}, u'Error': {u'SerialCorrelations': True}, u'DependentVariable': u'task-mixedgamblestask', u'Columns': {u'task': {u'Variable': u'trial_type', u'HRFModelling': u'Gamma', u'Level': u'n/a'}, u'param-loss': {u'Variable': u'trial_type', u'Demean': True, u'HRFModelling': u'Gamma+derivs', u'ModulationVar': u'loss', u'Level': u'n/a'}, u'param-rt': {u'Variable': u'trial_type', u'Demean': True, u'HRFModelling': u'Gamma+derivs', u'ModulationVar': u'RT', u'Level': u'n/a'}, u'param-gain': {u'HRFModelling': u'Gamma+derivs', u'Level': u'n/a', u'ModulationVar': u'gain', u'Demean': True, u'ModulationOrder': 1, u'Variable': u'trial_type'}}, u'Level': u'Run'}\n"
     ]
    }
   ],
   "source": [
    "#- testing\n",
    "test_case = {\n",
    "    'base_dir': '/home/jb/data/bids/ds005',\n",
    "    'model_pattern': \"*type-russ*_model.json\"\n",
    "}\n",
    "\n",
    "base_dir, model_pattern = test_case['base_dir'], test_case['model_pattern'] \n",
    "json_model = utils.glob_recursive(base_dir, model_pattern)[0]\n",
    "\n",
    "model_data = utils.get_funcs_models(base_dir, model_pattern, verbose=utils.VERB['none'])\n",
    "model_dict = model_data.values()[0]\n",
    "print(model_dict)"
   ]
  },
  {
   "cell_type": "code",
   "execution_count": 22,
   "metadata": {
    "collapsed": false
   },
   "outputs": [
    {
     "name": "stdout",
     "output_type": "stream",
     "text": [
      "base dir /home/jb/data/bids/ds005\n",
      "json_model /home/jb/data/bids/ds005/models/ds-005_type-russ_sub-all_model.json\n"
     ]
    }
   ],
   "source": [
    "data = utils.get_json_model_Ydata(all_jsons[0], level='Run', verbose=utils.VERB['info'])"
   ]
  },
  {
   "cell_type": "code",
   "execution_count": 25,
   "metadata": {
    "collapsed": false
   },
   "outputs": [],
   "source": [
    "#for dirpath, dirnames, filenames in os.walk(osp.curdir):\n",
    "#    print(dirpath, dirnames, filenames)\n"
   ]
  },
  {
   "cell_type": "code",
   "execution_count": 27,
   "metadata": {
    "collapsed": false
   },
   "outputs": [],
   "source": [
    "a, b, c = utils._get_nipype_specify_model_inputs(base_dir, model_pattern)"
   ]
  },
  {
   "cell_type": "code",
   "execution_count": 32,
   "metadata": {
    "collapsed": false
   },
   "outputs": [
    {
     "data": {
      "text/plain": [
       "Bunch(conditions=[u'task', u'param-loss', u'param-rt', u'param-gain'], durations=[[3, 3, 3, 3, 3, 3, 3, 3, 3, 3, 3, 3, 3, 3, 3, 3, 3, 3, 3, 3, 3, 3, 3, 3, 3, 3, 3, 3, 3, 3, 3, 3, 3, 3, 3, 3, 3, 3, 3, 3, 3, 3, 3, 3, 3, 3, 3, 3, 3, 3, 3, 3, 3, 3, 3, 3, 3, 3, 3, 3, 3, 3, 3, 3, 3, 3, 3, 3, 3, 3, 3, 3, 3, 3, 3, 3, 3, 3, 3, 3, 3, 3, 3, 3, 3], [3, 3, 3, 3, 3, 3, 3, 3, 3, 3, 3, 3, 3, 3, 3, 3, 3, 3, 3, 3, 3, 3, 3, 3, 3, 3, 3, 3, 3, 3, 3, 3, 3, 3, 3, 3, 3, 3, 3, 3, 3, 3, 3, 3, 3, 3, 3, 3, 3, 3, 3, 3, 3, 3, 3, 3, 3, 3, 3, 3, 3, 3, 3, 3, 3, 3, 3, 3, 3, 3, 3, 3, 3, 3, 3, 3, 3, 3, 3, 3, 3, 3, 3, 3, 3], [3, 3, 3, 3, 3, 3, 3, 3, 3, 3, 3, 3, 3, 3, 3, 3, 3, 3, 3, 3, 3, 3, 3, 3, 3, 3, 3, 3, 3, 3, 3, 3, 3, 3, 3, 3, 3, 3, 3, 3, 3, 3, 3, 3, 3, 3, 3, 3, 3, 3, 3, 3, 3, 3, 3, 3, 3, 3, 3, 3, 3, 3, 3, 3, 3, 3, 3, 3, 3, 3, 3, 3, 3, 3, 3, 3, 3, 3, 3, 3, 3, 3, 3, 3, 3], [3, 3, 3, 3, 3, 3, 3, 3, 3, 3, 3, 3, 3, 3, 3, 3, 3, 3, 3, 3, 3, 3, 3, 3, 3, 3, 3, 3, 3, 3, 3, 3, 3, 3, 3, 3, 3, 3, 3, 3, 3, 3, 3, 3, 3, 3, 3, 3, 3, 3, 3, 3, 3, 3, 3, 3, 3, 3, 3, 3, 3, 3, 3, 3, 3, 3, 3, 3, 3, 3, 3, 3, 3, 3, 3, 3, 3, 3, 3, 3, 3, 3, 3, 3, 3]], onsets=[[0.0, 4.0, 8.0, 12.0, 16.0, 24.0, 28.0, 32.0, 36.0, 40.0, 44.0, 48.0, 56.0, 60.0, 64.0, 72.0, 76.0, 84.0, 88.0, 94.0, 98.0, 102.0, 106.0, 110.0, 120.0, 132.0, 136.0, 146.0, 150.0, 154.0, 162.0, 166.0, 176.0, 180.0, 184.0, 194.0, 200.0, 204.0, 208.0, 212.0, 216.0, 220.0, 226.0, 236.0, 240.0, 244.0, 250.0, 258.0, 262.0, 274.0, 282.0, 286.0, 294.0, 298.0, 304.0, 316.0, 322.0, 326.0, 330.0, 334.0, 342.0, 348.0, 358.0, 364.0, 368.0, 372.0, 378.0, 384.0, 390.0, 396.0, 400.0, 404.0, 408.0, 412.0, 422.0, 426.0, 432.0, 436.0, 440.0, 444.0, 448.0, 452.0, 460.0, 468.0, 474.0], [0.0, 4.0, 8.0, 12.0, 16.0, 24.0, 28.0, 32.0, 36.0, 40.0, 44.0, 48.0, 56.0, 60.0, 64.0, 72.0, 76.0, 84.0, 88.0, 94.0, 98.0, 102.0, 106.0, 110.0, 120.0, 132.0, 136.0, 146.0, 150.0, 154.0, 162.0, 166.0, 176.0, 180.0, 184.0, 194.0, 200.0, 204.0, 208.0, 212.0, 216.0, 220.0, 226.0, 236.0, 240.0, 244.0, 250.0, 258.0, 262.0, 274.0, 282.0, 286.0, 294.0, 298.0, 304.0, 316.0, 322.0, 326.0, 330.0, 334.0, 342.0, 348.0, 358.0, 364.0, 368.0, 372.0, 378.0, 384.0, 390.0, 396.0, 400.0, 404.0, 408.0, 412.0, 422.0, 426.0, 432.0, 436.0, 440.0, 444.0, 448.0, 452.0, 460.0, 468.0, 474.0], [0.0, 4.0, 8.0, 12.0, 16.0, 24.0, 28.0, 32.0, 36.0, 40.0, 44.0, 48.0, 56.0, 60.0, 64.0, 72.0, 76.0, 84.0, 88.0, 94.0, 98.0, 102.0, 106.0, 110.0, 120.0, 132.0, 136.0, 146.0, 150.0, 154.0, 162.0, 166.0, 176.0, 180.0, 184.0, 194.0, 200.0, 204.0, 208.0, 212.0, 216.0, 220.0, 226.0, 236.0, 240.0, 244.0, 250.0, 258.0, 262.0, 274.0, 282.0, 286.0, 294.0, 298.0, 304.0, 316.0, 322.0, 326.0, 330.0, 334.0, 342.0, 348.0, 358.0, 364.0, 368.0, 372.0, 378.0, 384.0, 390.0, 396.0, 400.0, 404.0, 408.0, 412.0, 422.0, 426.0, 432.0, 436.0, 440.0, 444.0, 448.0, 452.0, 460.0, 468.0, 474.0], [0.0, 4.0, 8.0, 12.0, 16.0, 24.0, 28.0, 32.0, 36.0, 40.0, 44.0, 48.0, 56.0, 60.0, 64.0, 72.0, 76.0, 84.0, 88.0, 94.0, 98.0, 102.0, 106.0, 110.0, 120.0, 132.0, 136.0, 146.0, 150.0, 154.0, 162.0, 166.0, 176.0, 180.0, 184.0, 194.0, 200.0, 204.0, 208.0, 212.0, 216.0, 220.0, 226.0, 236.0, 240.0, 244.0, 250.0, 258.0, 262.0, 274.0, 282.0, 286.0, 294.0, 298.0, 304.0, 316.0, 322.0, 326.0, 330.0, 334.0, 342.0, 348.0, 358.0, 364.0, 368.0, 372.0, 378.0, 384.0, 390.0, 396.0, 400.0, 404.0, 408.0, 412.0, 422.0, 426.0, 432.0, 436.0, 440.0, 444.0, 448.0, 452.0, 460.0, 468.0, 474.0]], pmod=[[], [Bunch(name=u'loss', param=[5, 17, 16, 18, 14, 13, 8, 18, 8, 14, 6, 14, 9, 13, 18, 15, 12, 11, 10, 6, 20, 10, 7, 9, 12, 14, 13, 15, 15, 15, 18, 18, 9, 8, 20, 19, 9, 6, 5, 7, 10, 9, 12, 8, 19, 14, 17, 8, 17, 5, 6, 13, 9, 18, 15, 9, 20, 20, 15, 8, 16, 12, 15, 17, 11, 9, 13, 11, 8, 16, 10, 18, 9, 7, 16, 17, 5, 7, 18, 19, 20, 6, 16, 6, 7], poly=1), None], [Bunch(name=u'RT', param=[1.4399999999999999, 1.8799999999999999, 0.77900000000000003, 2.8210000000000002, 1.0669999999999999, 1.2210000000000001, 0.001, 0.98099999999999998, 0.90800000000000003, 1.0920000000000001, 1.7719999999999998, 1.3939999999999999, 1.605, 0.97999999999999998, 1.4369999999999998, 1.006, 1.0269999999999999, 1.3819999999999999, 0.88500000000000001, 1.222, 1.653, 1.389, 1.1000000000000001, 1.1899999999999999, 1.367, 0.99199999999999999, 0.998, 1.28, 0.90200000000000002, 2.0150000000000001, 1.6399999999999999, 1.2330000000000001, 1.369, 1.8720000000000001, 1.1830000000000001, 1.2330000000000001, 1.4490000000000001, 1.5840000000000001, 1.5680000000000001, 1.673, 1.5029999999999999, 1.3839999999999999, 1.8260000000000001, 1.1299999999999999, 1.649, 1.3300000000000001, 1.091, 1.891, 0.86499999999999999, 1.2430000000000001, 1.1479999999999999, 1.3320000000000001, 0.93000000000000005, 1.643, 1.093, 1.157, 1.3640000000000001, 1.4069999999999998, 0.97099999999999997, 1.8580000000000001, 1.7969999999999999, 1.9079999999999999, 1.6859999999999999, 1.2130000000000001, 1.5069999999999999, 1.6200000000000001, 0.878, 1.6699999999999999, 1.821, 1.3819999999999999, 1.5089999999999999, 1.3660000000000001, 1.5820000000000001, 2.2040000000000002, 2.0550000000000002, 1.5820000000000001, 1.798, 1.966, 1.0700000000000001, 1.079, 2.4700000000000002, 0.001, 1.054, 1.6319999999999999, 1.8089999999999999], poly=1), None], [Bunch(name=u'gain', param=[20, 22, 10, 38, 20, 14, 40, 32, 24, 36, 28, 16, 14, 20, 30, 14, 12, 24, 12, 16, 38, 28, 20, 38, 26, 10, 12, 24, 32, 36, 36, 12, 20, 16, 12, 22, 36, 26, 30, 36, 18, 30, 30, 14, 20, 28, 16, 26, 10, 12, 40, 36, 10, 34, 30, 18, 26, 36, 22, 38, 28, 34, 28, 24, 28, 16, 22, 40, 28, 36, 20, 10, 40, 32, 40, 30, 24, 16, 22, 26, 24, 34, 24, 22, 12], poly=1), None]])"
      ]
     },
     "execution_count": 32,
     "metadata": {},
     "output_type": "execute_result"
    }
   ],
   "source": [
    "b[0]"
   ]
  },
  {
   "cell_type": "code",
   "execution_count": null,
   "metadata": {
    "collapsed": true
   },
   "outputs": [],
   "source": []
  },
  {
   "cell_type": "code",
   "execution_count": 9,
   "metadata": {
    "collapsed": false
   },
   "outputs": [
    {
     "data": {
      "text/plain": [
       "[(u'pos_vs_neg_contrast', 'T', [u'gain', u'loss'], [1, -1])]"
      ]
     },
     "execution_count": 9,
     "metadata": {},
     "output_type": "execute_result"
    }
   ],
   "source": [
    "utils._get_nipype_contrasts(model_dict)"
   ]
  },
  {
   "cell_type": "code",
   "execution_count": 10,
   "metadata": {
    "collapsed": false
   },
   "outputs": [
    {
     "name": "stdout",
     "output_type": "stream",
     "text": [
      "base dir /home/jb/data/bids/ds105\n",
      "json_model /home/jb/data/bids/ds105/models/ds-105_level-all_model.json\n"
     ]
    }
   ],
   "source": [
    "data = utils.get_json_model_Ydata(all_jsons[0], level='Run', verbose=utils.VERB['info'])"
   ]
  },
  {
   "cell_type": "code",
   "execution_count": 143,
   "metadata": {
    "collapsed": false
   },
   "outputs": [
    {
     "name": "stdout",
     "output_type": "stream",
     "text": [
      "[ '/home/jb/data/bids/ds105/sub-2/func/sub-2_task-objectviewing_run-03_bold.nii.gz',\n",
      "  '/home/jb/data/bids/ds105/sub-2/func/sub-2_task-objectviewing_run-05_bold.nii.gz',\n",
      "  '/home/jb/data/bids/ds105/sub-2/func/sub-2_task-objectviewing_run-12_bold.nii.gz',\n",
      "  '/home/jb/data/bids/ds105/sub-2/func/sub-2_task-objectviewing_run-02_bold.nii.gz',\n",
      "  '/home/jb/data/bids/ds105/sub-2/func/sub-2_task-objectviewing_run-10_bold.nii.gz',\n",
      "  '/home/jb/data/bids/ds105/sub-2/func/sub-2_task-objectviewing_run-08_bold.nii.gz',\n",
      "  '/home/jb/data/bids/ds105/sub-2/func/sub-2_task-objectviewing_run-07_bold.nii.gz',\n",
      "  '/home/jb/data/bids/ds105/sub-2/func/sub-2_task-objectviewing_run-04_bold.nii.gz',\n",
      "  '/home/jb/data/bids/ds105/sub-2/func/sub-2_task-objectviewing_run-11_bold.nii.gz',\n",
      "  '/home/jb/data/bids/ds105/sub-2/func/sub-2_task-objectviewing_run-09_bold.nii.gz']\n"
     ]
    }
   ],
   "source": [
    "pp.pprint(data[:min(10, len(data))])"
   ]
  },
  {
   "cell_type": "code",
   "execution_count": 144,
   "metadata": {
    "collapsed": false
   },
   "outputs": [],
   "source": [
    "model_pattern = \"*_model.json\"\n",
    "model_data = utils.get_funcs_models(base_dir, model_pattern, verbose=utils.VERB['none'])"
   ]
  },
  {
   "cell_type": "code",
   "execution_count": 145,
   "metadata": {
    "collapsed": false
   },
   "outputs": [
    {
     "name": "stdout",
     "output_type": "stream",
     "text": [
      "{ u'Columns': { u'face': { u'HRFmodelling': u'Gamma',\n",
      "                           u'Level': u'face',\n",
      "                           u'Variable': u'trial_type'},\n",
      "                u'house': { u'HRFmodelling': u'Gamma',\n",
      "                            u'Level': u'house',\n",
      "                            u'Variable': u'trial_type'}},\n",
      "  u'Contrasts': { u'face_vs_house': { u'Columns': [u'face', u'house'],\n",
      "                                      u'Weights': [1, -1]},\n",
      "                  u'house_vs_face': { u'Columns': [u'face', u'house'],\n",
      "                                      u'Weights': [1, -1]}},\n",
      "  u'DependentVariable': u'task-objectviewing',\n",
      "  u'Level': u'Run',\n",
      "  u'Name': u'run_level_simple'}\n"
     ]
    }
   ],
   "source": [
    "datafile = data[0]\n",
    "model_dict = model_data[datafile]\n",
    "pp.pprint(model_dict)"
   ]
  },
  {
   "cell_type": "code",
   "execution_count": 146,
   "metadata": {
    "collapsed": false
   },
   "outputs": [
    {
     "name": "stdout",
     "output_type": "stream",
     "text": [
      "/home/jb/data/bids/ds105/sub-2/func/sub-2_task-objectviewing_run-03_events.tsv\n"
     ]
    }
   ],
   "source": [
    "import pandas as pd\n",
    "tsv_file = datafile.split('_bold.nii')[0] + '_events.tsv'\n",
    "assert osp.isfile(tsv_file), \"{} is not a file \".format(tsv_file)\n",
    "print(tsv_file)"
   ]
  },
  {
   "cell_type": "code",
   "execution_count": 147,
   "metadata": {
    "collapsed": false
   },
   "outputs": [],
   "source": [
    "dic = utils._get_json_dict_from_tsv_file(tsv_file)\n",
    "#utils._get_tsv_lines(dic, 'trial_type', 'chair')"
   ]
  },
  {
   "cell_type": "code",
   "execution_count": 148,
   "metadata": {
    "collapsed": false
   },
   "outputs": [
    {
     "name": "stdout",
     "output_type": "stream",
     "text": [
      "[u'Contrasts', u'DependentVariable', u'Name', u'Columns', u'Level']\n",
      "{ u'face': { u'HRFmodelling': u'Gamma',\n",
      "             u'Level': u'face',\n",
      "             u'Variable': u'trial_type'},\n",
      "  u'house': { u'HRFmodelling': u'Gamma',\n",
      "              u'Level': u'house',\n",
      "              u'Variable': u'trial_type'}}\n"
     ]
    }
   ],
   "source": [
    "model_dict = model_data[datafile]\n",
    "print(model_dict.keys())\n",
    "regressors = model_dict['Columns']\n",
    "pp.pprint(regressors)"
   ]
  },
  {
   "cell_type": "code",
   "execution_count": 149,
   "metadata": {
    "collapsed": false
   },
   "outputs": [],
   "source": [
    "list_dicts = utils.get_run_conditions(datafile, model_dict)\n",
    "condition_names = list_dicts.keys()"
   ]
  },
  {
   "cell_type": "code",
   "execution_count": null,
   "metadata": {
    "collapsed": false
   },
   "outputs": [],
   "source": []
  },
  {
   "cell_type": "code",
   "execution_count": 150,
   "metadata": {
    "collapsed": false
   },
   "outputs": [],
   "source": [
    "#pp.pprint(list_dicts)\n",
    "for datafile in data[:min(10, len(data))]:\n",
    "    #print(datafile)\n",
    "    try: \n",
    "        nipype_info = utils.get_nipype_run_info(datafile, model_dict, verbose=utils.VERB['none'])\n",
    "    except:\n",
    "        print(datafile, ' : has a pb ... a condition has no event ')"
   ]
  },
  {
   "cell_type": "code",
   "execution_count": null,
   "metadata": {
    "collapsed": true
   },
   "outputs": [],
   "source": []
  },
  {
   "cell_type": "code",
   "execution_count": 151,
   "metadata": {
    "collapsed": false
   },
   "outputs": [],
   "source": [
    "#print(datafile)\n",
    "#pp.pprint(nipype_info)\n",
    "#print(nipype_info)"
   ]
  },
  {
   "cell_type": "code",
   "execution_count": 152,
   "metadata": {
    "collapsed": false
   },
   "outputs": [],
   "source": [
    "dict_regressors = utils.get_run_conditions(datafile, model_dict)#, verbose=verbose)\n",
    "condition_names = dict_regressors.keys() \n",
    "#print(dict_regressors)\n",
    "bunch = utils.make_nipype_bunch(dict_regressors)"
   ]
  },
  {
   "cell_type": "code",
   "execution_count": 153,
   "metadata": {
    "collapsed": false
   },
   "outputs": [
    {
     "data": {
      "text/plain": [
       "Bunch(conditions=[u'house', u'face'], durations=[[0.5, 0.5, 0.5, 0.5, 0.5, 0.5, 0.5, 0.5, 0.5, 0.5, 0.5, 0.5], [0.5, 0.5, 0.5, 0.5, 0.5, 0.5, 0.5, 0.5, 0.5, 0.5, 0.5, 0.5]], onsets=[[120.0, 122.0, 124.0, 126.0, 128.0, 130.0, 132.0, 134.0, 136.0, 138.0, 140.0, 142.0], [12.0, 14.0, 16.0, 18.0, 20.0, 22.0, 24.0, 26.0, 28.0, 30.0, 32.0, 34.0]], pmod=[[], []])"
      ]
     },
     "execution_count": 153,
     "metadata": {},
     "output_type": "execute_result"
    }
   ],
   "source": [
    "bunch"
   ]
  },
  {
   "cell_type": "markdown",
   "metadata": {},
   "source": [
    "### copy a ds tree with only the json and tsv files"
   ]
  },
  {
   "cell_type": "code",
   "execution_count": 154,
   "metadata": {
    "collapsed": false
   },
   "outputs": [],
   "source": [
    "source_dir = '/home/jb/data/bids/ds005'\n",
    "dest_dir = '/home/jb/code/bids2pype/bids2pype/tests/data/ds005'\n",
    "# utils.create_empty_bids(source_dir, dest_dir, ['*.json','*.tsv'])"
   ]
  },
  {
   "cell_type": "code",
   "execution_count": 155,
   "metadata": {
    "collapsed": false
   },
   "outputs": [
    {
     "data": {
      "text/plain": [
       "['/home/jb/data/bids/ds105/models/ds-105_sub-all_model.json',\n",
       " '/home/jb/data/bids/ds105/sub-2/func/models/ds-105_sub-2_model.json']"
      ]
     },
     "execution_count": 155,
     "metadata": {},
     "output_type": "execute_result"
    }
   ],
   "source": [
    "utils._sorted_by_depth('/home/jb/data/bids/ds105', \"*sub*_model.json\")"
   ]
  },
  {
   "cell_type": "code",
   "execution_count": 157,
   "metadata": {
    "collapsed": false
   },
   "outputs": [
    {
     "name": "stdout",
     "output_type": "stream",
     "text": [
      "objectviewing\n"
     ]
    }
   ],
   "source": [
    "res = utils._get_substr_between(datafile, 'task-', '_')\n",
    "print(res)"
   ]
  },
  {
   "cell_type": "code",
   "execution_count": null,
   "metadata": {
    "collapsed": true
   },
   "outputs": [],
   "source": []
  }
 ],
 "metadata": {
  "kernelspec": {
   "display_name": "Python 2",
   "language": "python",
   "name": "python2"
  },
  "language_info": {
   "codemirror_mode": {
    "name": "ipython",
    "version": 2
   },
   "file_extension": ".py",
   "mimetype": "text/x-python",
   "name": "python",
   "nbconvert_exporter": "python",
   "pygments_lexer": "ipython2",
   "version": "2.7.6"
  }
 },
 "nbformat": 4,
 "nbformat_minor": 0
}
