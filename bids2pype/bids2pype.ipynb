{
 "cells": [
  {
   "cell_type": "code",
   "execution_count": 1,
   "metadata": {
    "collapsed": false
   },
   "outputs": [
    {
     "data": {
      "text/plain": [
       "<module 'utils' from 'utils.pyc'>"
      ]
     },
     "execution_count": 1,
     "metadata": {},
     "output_type": "execute_result"
    }
   ],
   "source": [
    "from __future__ import print_function, division\n",
    "import pprint\n",
    "import os \n",
    "import fnmatch\n",
    "#import errno\n",
    "import os.path as osp\n",
    "import json\n",
    "#import re\n",
    "import glob as gb\n",
    "from six import string_types\n",
    "\n",
    "import utils\n",
    "reload(utils)"
   ]
  },
  {
   "cell_type": "code",
   "execution_count": 2,
   "metadata": {
    "collapsed": false
   },
   "outputs": [],
   "source": [
    "pp = pprint.PrettyPrinter(indent=2)"
   ]
  },
  {
   "cell_type": "code",
   "execution_count": 26,
   "metadata": {
    "collapsed": false
   },
   "outputs": [
    {
     "name": "stdout",
     "output_type": "stream",
     "text": [
      "['/home/jb/data/bids/ds105/models/ds-105_level-all_model.json']\n"
     ]
    }
   ],
   "source": [
    "#- testing\n",
    "\n",
    "test_case_105a = {\n",
    "    'base_dir': '/home/jb/data/bids/ds105',\n",
    "    'model_pattern': \"sub*_model.json\"\n",
    "}\n",
    "test_case_105b = {\n",
    "    'base_dir': '/home/jb/data/bids/ds105',\n",
    "    'model_pattern': \"ds-105_level-all_model.json\"\n",
    "}\n",
    "test_case_005 = {\n",
    "    'base_dir': '/home/jb/data/bids/ds005',\n",
    "    'model_pattern': \"*_model.json\"\n",
    "}\n",
    "\n",
    "#test_case = test_case_005\n",
    "#test_case = test_case_105a\n",
    "test_case = test_case_105b\n",
    "\n",
    "base_dir, model_pattern = test_case['base_dir'], test_case['model_pattern'] \n",
    "\n",
    "all_jsons = utils.glob_recursive(base_dir, model_pattern)\n",
    "print(all_jsons)\n",
    "json_model=all_jsons[0]"
   ]
  },
  {
   "cell_type": "code",
   "execution_count": 27,
   "metadata": {
    "collapsed": false
   },
   "outputs": [
    {
     "name": "stdout",
     "output_type": "stream",
     "text": [
      "base dir /home/jb/data/bids/ds105\n",
      "json_model /home/jb/data/bids/ds105/models/ds-105_level-all_model.json\n"
     ]
    }
   ],
   "source": [
    "data = utils.get_json_model_Ydata(all_jsons[0], level='Run', verbose=utils.VERB['info'])"
   ]
  },
  {
   "cell_type": "code",
   "execution_count": 28,
   "metadata": {
    "collapsed": false
   },
   "outputs": [
    {
     "name": "stdout",
     "output_type": "stream",
     "text": [
      "[ '/home/jb/data/bids/ds105/sub-2/func/sub-2_task-objectviewing_run-03_bold.nii.gz',\n",
      "  '/home/jb/data/bids/ds105/sub-2/func/sub-2_task-objectviewing_run-05_bold.nii.gz',\n",
      "  '/home/jb/data/bids/ds105/sub-2/func/sub-2_task-objectviewing_run-12_bold.nii.gz',\n",
      "  '/home/jb/data/bids/ds105/sub-2/func/sub-2_task-objectviewing_run-02_bold.nii.gz',\n",
      "  '/home/jb/data/bids/ds105/sub-2/func/sub-2_task-objectviewing_run-10_bold.nii.gz',\n",
      "  '/home/jb/data/bids/ds105/sub-2/func/sub-2_task-objectviewing_run-08_bold.nii.gz',\n",
      "  '/home/jb/data/bids/ds105/sub-2/func/sub-2_task-objectviewing_run-07_bold.nii.gz',\n",
      "  '/home/jb/data/bids/ds105/sub-2/func/sub-2_task-objectviewing_run-04_bold.nii.gz',\n",
      "  '/home/jb/data/bids/ds105/sub-2/func/sub-2_task-objectviewing_run-11_bold.nii.gz',\n",
      "  '/home/jb/data/bids/ds105/sub-2/func/sub-2_task-objectviewing_run-09_bold.nii.gz']\n"
     ]
    }
   ],
   "source": [
    "pp.pprint(data[:min(10, len(data))])"
   ]
  },
  {
   "cell_type": "code",
   "execution_count": 29,
   "metadata": {
    "collapsed": false
   },
   "outputs": [],
   "source": [
    "model_pattern = \"*_model.json\"\n",
    "model_data = utils.get_funcs_models(base_dir, model_pattern, verbose=utils.VERB['none'])"
   ]
  },
  {
   "cell_type": "code",
   "execution_count": 30,
   "metadata": {
    "collapsed": false
   },
   "outputs": [
    {
     "name": "stdout",
     "output_type": "stream",
     "text": [
      "{ u'Columns': { u'face': { u'HRFmodelling': u'Gamma',\n",
      "                           u'Level': u'face',\n",
      "                           u'Variable': u'trial_type'},\n",
      "                u'house': { u'HRFmodelling': u'Gamma',\n",
      "                            u'Level': u'house',\n",
      "                            u'Variable': u'trial_type'}},\n",
      "  u'Contrasts': { u'face_vs_house': { u'Columns': [u'face', u'house'],\n",
      "                                      u'Weights': [1, -1]},\n",
      "                  u'house_vs_face': { u'Columns': [u'face', u'house'],\n",
      "                                      u'Weights': [1, -1]}},\n",
      "  u'DependentVariable': u'task-objectviewing',\n",
      "  u'Level': u'Run',\n",
      "  u'Name': u'run_level_simple'}\n"
     ]
    }
   ],
   "source": [
    "datafile = data[0]\n",
    "model_dict = model_data[datafile]\n",
    "pp.pprint(model_dict)"
   ]
  },
  {
   "cell_type": "code",
   "execution_count": 31,
   "metadata": {
    "collapsed": false
   },
   "outputs": [
    {
     "name": "stdout",
     "output_type": "stream",
     "text": [
      "/home/jb/data/bids/ds105/sub-2/func/sub-2_task-objectviewing_run-03_events.tsv\n"
     ]
    }
   ],
   "source": [
    "import pandas as pd\n",
    "tsv_file = datafile.split('_bold.nii')[0] + '_events.tsv'\n",
    "assert osp.isfile(tsv_file), \"{} is not a file \".format(tsv_file)\n",
    "print(tsv_file)"
   ]
  },
  {
   "cell_type": "code",
   "execution_count": 32,
   "metadata": {
    "collapsed": false
   },
   "outputs": [
    {
     "name": "stdout",
     "output_type": "stream",
     "text": [
      "[u'Contrasts', u'DependentVariable', u'Name', u'Columns', u'Level']\n",
      "{ u'face': { u'HRFmodelling': u'Gamma',\n",
      "             u'Level': u'face',\n",
      "             u'Variable': u'trial_type'},\n",
      "  u'house': { u'HRFmodelling': u'Gamma',\n",
      "              u'Level': u'house',\n",
      "              u'Variable': u'trial_type'}}\n"
     ]
    }
   ],
   "source": [
    "model_dict = model_data[datafile]\n",
    "print(model_dict.keys())\n",
    "regressors = model_dict['Columns']\n",
    "pp.pprint(regressors)"
   ]
  },
  {
   "cell_type": "code",
   "execution_count": 33,
   "metadata": {
    "collapsed": false
   },
   "outputs": [],
   "source": [
    "condition_names, list_dicts = utils.get_run_conditions(datafile, model_dict)"
   ]
  },
  {
   "cell_type": "code",
   "execution_count": 34,
   "metadata": {
    "collapsed": false
   },
   "outputs": [
    {
     "data": {
      "text/plain": [
       "[u'house', u'face']"
      ]
     },
     "execution_count": 34,
     "metadata": {},
     "output_type": "execute_result"
    }
   ],
   "source": [
    "condition_names"
   ]
  },
  {
   "cell_type": "code",
   "execution_count": 35,
   "metadata": {
    "collapsed": false
   },
   "outputs": [],
   "source": [
    "#pp.pprint(list_dicts)\n",
    "nipype_info = utils.get_nipype_run_info(datafile, model_dict, verbose=utils.VERB['none'])"
   ]
  },
  {
   "cell_type": "code",
   "execution_count": 38,
   "metadata": {
    "collapsed": false
   },
   "outputs": [
    {
     "name": "stdout",
     "output_type": "stream",
     "text": [
      "/home/jb/data/bids/ds105/sub-2/func/sub-2_task-objectviewing_run-03_bold.nii.gz\n",
      "{ 'HRF': [u'Gamma', u'Gamma'],\n",
      "  'condition_names': [u'house', u'face'],\n",
      "  'durations': [ [0.5, 0.5, 0.5, 0.5, 0.5, 0.5, 0.5, 0.5, 0.5, 0.5, 0.5, 0.5],\n",
      "                 [0.5, 0.5, 0.5, 0.5, 0.5, 0.5, 0.5, 0.5, 0.5, 0.5, 0.5, 0.5]],\n",
      "  'magnitude': [None, None],\n",
      "  'onsets': [ [ 120.0,\n",
      "                122.0,\n",
      "                124.0,\n",
      "                126.0,\n",
      "                128.0,\n",
      "                130.0,\n",
      "                132.0,\n",
      "                134.0,\n",
      "                136.0,\n",
      "                138.0,\n",
      "                140.0,\n",
      "                142.0],\n",
      "              [ 12.0,\n",
      "                14.0,\n",
      "                16.0,\n",
      "                18.0,\n",
      "                20.0,\n",
      "                22.0,\n",
      "                24.0,\n",
      "                26.0,\n",
      "                28.0,\n",
      "                30.0,\n",
      "                32.0,\n",
      "                34.0]]}\n"
     ]
    }
   ],
   "source": [
    "print(datafile)\n",
    "pp.pprint(nipype_info)"
   ]
  },
  {
   "cell_type": "code",
   "execution_count": null,
   "metadata": {
    "collapsed": true
   },
   "outputs": [],
   "source": []
  },
  {
   "cell_type": "code",
   "execution_count": null,
   "metadata": {
    "collapsed": true
   },
   "outputs": [],
   "source": []
  }
 ],
 "metadata": {
  "kernelspec": {
   "display_name": "Python 2",
   "language": "python",
   "name": "python2"
  },
  "language_info": {
   "codemirror_mode": {
    "name": "ipython",
    "version": 2
   },
   "file_extension": ".py",
   "mimetype": "text/x-python",
   "name": "python",
   "nbconvert_exporter": "python",
   "pygments_lexer": "ipython2",
   "version": "2.7.6"
  }
 },
 "nbformat": 4,
 "nbformat_minor": 0
}
