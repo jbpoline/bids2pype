{
 "cells": [
  {
   "cell_type": "code",
   "execution_count": 12,
   "metadata": {
    "collapsed": false
   },
   "outputs": [
    {
     "data": {
      "text/plain": [
       "<module 'utils' from 'utils.py'>"
      ]
     },
     "execution_count": 12,
     "metadata": {},
     "output_type": "execute_result"
    }
   ],
   "source": [
    "from __future__ import print_function, division\n",
    "import pprint\n",
    "import os \n",
    "import fnmatch\n",
    "#import errno\n",
    "import os.path as osp\n",
    "import json\n",
    "#import re\n",
    "import glob as gb\n",
    "from six import string_types\n",
    "from nipype.interfaces.base import Bunch\n",
    "\n",
    "import utils\n",
    "reload(utils)"
   ]
  },
  {
   "cell_type": "code",
   "execution_count": 13,
   "metadata": {
    "collapsed": false
   },
   "outputs": [],
   "source": [
    "pp = pprint.PrettyPrinter(indent=2)"
   ]
  },
  {
   "cell_type": "code",
   "execution_count": 14,
   "metadata": {
    "collapsed": false
   },
   "outputs": [
    {
     "name": "stdout",
     "output_type": "stream",
     "text": [
      "['/home/jb/data/bids/ds105/sub-2/func/models/ds-105_sub-2_model.json', '/home/jb/data/bids/ds105/models/ds-105_sub-all_model.json']\n"
     ]
    }
   ],
   "source": [
    "#- testing\n",
    "\n",
    "test_case_105a = {\n",
    "    'base_dir': '/home/jb/data/bids/ds105',\n",
    "    'model_pattern': \"ds-105_sub*_model.json\"\n",
    "}\n",
    "test_case_105b = {\n",
    "    'base_dir': '/home/jb/data/bids/ds105',\n",
    "    'model_pattern': \"ds-105_level-all_model.json\"\n",
    "}\n",
    "test_case_005 = {\n",
    "    'base_dir': '/home/jb/data/bids/ds005',\n",
    "    'model_pattern': \"*_model.json\"\n",
    "}\n",
    "\n",
    "test_case = test_case_005\n",
    "test_case = test_case_105a\n",
    "#test_case = test_case_105b\n",
    "\n",
    "base_dir, model_pattern = test_case['base_dir'], test_case['model_pattern'] \n",
    "\n",
    "all_jsons = utils.glob_recursive(base_dir, model_pattern)\n",
    "print(all_jsons)\n",
    "json_model=all_jsons[0]"
   ]
  },
  {
   "cell_type": "code",
   "execution_count": 15,
   "metadata": {
    "collapsed": false
   },
   "outputs": [],
   "source": [
    "a, b, c = utils._get_nipype_specify_model_inputs(base_dir, model_pattern)"
   ]
  },
  {
   "cell_type": "code",
   "execution_count": 19,
   "metadata": {
    "collapsed": false
   },
   "outputs": [
    {
     "data": {
      "text/plain": [
       "['/home/jb/data/bids/ds105/sub-6/func/sub-6_task-objectviewing_run-06_bold.nii.gz',\n",
       " '/home/jb/data/bids/ds105/sub-1/func/sub-1_task-objectviewing_run-01_bold.nii.gz',\n",
       " '/home/jb/data/bids/ds105/sub-3/func/sub-3_task-objectviewing_run-03_bold.nii.gz',\n",
       " '/home/jb/data/bids/ds105/sub-2/func/sub-2_task-objectviewing_run-03_bold.nii.gz',\n",
       " '/home/jb/data/bids/ds105/sub-1/func/sub-1_task-objectviewing_run-06_bold.nii.gz',\n",
       " '/home/jb/data/bids/ds105/sub-2/func/sub-2_task-objectviewing_run-02_bold.nii.gz',\n",
       " '/home/jb/data/bids/ds105/sub-2/func/sub-2_task-objectviewing_run-08_bold.nii.gz',\n",
       " '/home/jb/data/bids/ds105/sub-6/func/sub-6_task-objectviewing_run-01_bold.nii.gz',\n",
       " '/home/jb/data/bids/ds105/sub-4/func/sub-4_task-objectviewing_run-10_bold.nii.gz',\n",
       " '/home/jb/data/bids/ds105/sub-3/func/sub-3_task-objectviewing_run-04_bold.nii.gz',\n",
       " '/home/jb/data/bids/ds105/sub-6/func/sub-6_task-objectviewing_run-03_bold.nii.gz',\n",
       " '/home/jb/data/bids/ds105/sub-4/func/sub-4_task-objectviewing_run-01_bold.nii.gz',\n",
       " '/home/jb/data/bids/ds105/sub-6/func/sub-6_task-objectviewing_run-02_bold.nii.gz',\n",
       " '/home/jb/data/bids/ds105/sub-5/func/sub-5_task-objectviewing_run-02_bold.nii.gz',\n",
       " '/home/jb/data/bids/ds105/sub-3/func/sub-3_task-objectviewing_run-08_bold.nii.gz',\n",
       " '/home/jb/data/bids/ds105/sub-2/func/sub-2_task-objectviewing_run-05_bold.nii.gz',\n",
       " '/home/jb/data/bids/ds105/sub-6/func/sub-6_task-objectviewing_run-08_bold.nii.gz',\n",
       " '/home/jb/data/bids/ds105/sub-2/func/sub-2_task-objectviewing_run-09_bold.nii.gz',\n",
       " '/home/jb/data/bids/ds105/sub-5/func/sub-5_task-objectviewing_run-04_bold.nii.gz',\n",
       " '/home/jb/data/bids/ds105/sub-6/func/sub-6_task-objectviewing_run-09_bold.nii.gz',\n",
       " '/home/jb/data/bids/ds105/sub-4/func/sub-4_task-objectviewing_run-12_bold.nii.gz',\n",
       " '/home/jb/data/bids/ds105/sub-3/func/sub-3_task-objectviewing_run-12_bold.nii.gz',\n",
       " '/home/jb/data/bids/ds105/sub-3/func/sub-3_task-objectviewing_run-01_bold.nii.gz',\n",
       " '/home/jb/data/bids/ds105/sub-5/func/sub-5_task-objectviewing_run-03_bold.nii.gz',\n",
       " '/home/jb/data/bids/ds105/sub-3/func/sub-3_task-objectviewing_run-11_bold.nii.gz',\n",
       " '/home/jb/data/bids/ds105/sub-1/func/sub-1_task-objectviewing_run-07_bold.nii.gz',\n",
       " '/home/jb/data/bids/ds105/sub-4/func/sub-4_task-objectviewing_run-02_bold.nii.gz',\n",
       " '/home/jb/data/bids/ds105/sub-6/func/sub-6_task-objectviewing_run-07_bold.nii.gz',\n",
       " '/home/jb/data/bids/ds105/sub-5/func/sub-5_task-objectviewing_run-10_bold.nii.gz',\n",
       " '/home/jb/data/bids/ds105/sub-1/func/sub-1_task-objectviewing_run-03_bold.nii.gz',\n",
       " '/home/jb/data/bids/ds105/sub-1/func/sub-1_task-objectviewing_run-12_bold.nii.gz',\n",
       " '/home/jb/data/bids/ds105/sub-5/func/sub-5_task-objectviewing_run-11_bold.nii.gz',\n",
       " '/home/jb/data/bids/ds105/sub-2/func/sub-2_task-objectviewing_run-12_bold.nii.gz',\n",
       " '/home/jb/data/bids/ds105/sub-1/func/sub-1_task-objectviewing_run-08_bold.nii.gz',\n",
       " '/home/jb/data/bids/ds105/sub-5/func/sub-5_task-objectviewing_run-09_bold.nii.gz',\n",
       " '/home/jb/data/bids/ds105/sub-2/func/sub-2_task-objectviewing_run-04_bold.nii.gz',\n",
       " '/home/jb/data/bids/ds105/sub-4/func/sub-4_task-objectviewing_run-03_bold.nii.gz',\n",
       " '/home/jb/data/bids/ds105/sub-2/func/sub-2_task-objectviewing_run-10_bold.nii.gz',\n",
       " '/home/jb/data/bids/ds105/sub-1/func/sub-1_task-objectviewing_run-11_bold.nii.gz',\n",
       " '/home/jb/data/bids/ds105/sub-5/func/sub-5_task-objectviewing_run-08_bold.nii.gz',\n",
       " '/home/jb/data/bids/ds105/sub-1/func/sub-1_task-objectviewing_run-10_bold.nii.gz',\n",
       " '/home/jb/data/bids/ds105/sub-2/func/sub-2_task-objectviewing_run-11_bold.nii.gz',\n",
       " '/home/jb/data/bids/ds105/sub-6/func/sub-6_task-objectviewing_run-12_bold.nii.gz',\n",
       " '/home/jb/data/bids/ds105/sub-6/func/sub-6_task-objectviewing_run-04_bold.nii.gz',\n",
       " '/home/jb/data/bids/ds105/sub-4/func/sub-4_task-objectviewing_run-09_bold.nii.gz',\n",
       " '/home/jb/data/bids/ds105/sub-6/func/sub-6_task-objectviewing_run-10_bold.nii.gz',\n",
       " '/home/jb/data/bids/ds105/sub-5/func/sub-5_task-objectviewing_run-01_bold.nii.gz',\n",
       " '/home/jb/data/bids/ds105/sub-4/func/sub-4_task-objectviewing_run-07_bold.nii.gz',\n",
       " '/home/jb/data/bids/ds105/sub-5/func/sub-5_task-objectviewing_run-07_bold.nii.gz',\n",
       " '/home/jb/data/bids/ds105/sub-6/func/sub-6_task-objectviewing_run-11_bold.nii.gz',\n",
       " '/home/jb/data/bids/ds105/sub-4/func/sub-4_task-objectviewing_run-06_bold.nii.gz',\n",
       " '/home/jb/data/bids/ds105/sub-4/func/sub-4_task-objectviewing_run-04_bold.nii.gz',\n",
       " '/home/jb/data/bids/ds105/sub-1/func/sub-1_task-objectviewing_run-04_bold.nii.gz',\n",
       " '/home/jb/data/bids/ds105/sub-3/func/sub-3_task-objectviewing_run-10_bold.nii.gz',\n",
       " '/home/jb/data/bids/ds105/sub-2/func/sub-2_task-objectviewing_run-07_bold.nii.gz',\n",
       " '/home/jb/data/bids/ds105/sub-3/func/sub-3_task-objectviewing_run-02_bold.nii.gz',\n",
       " '/home/jb/data/bids/ds105/sub-3/func/sub-3_task-objectviewing_run-07_bold.nii.gz',\n",
       " '/home/jb/data/bids/ds105/sub-3/func/sub-3_task-objectviewing_run-05_bold.nii.gz',\n",
       " '/home/jb/data/bids/ds105/sub-2/func/sub-2_task-objectviewing_run-06_bold.nii.gz',\n",
       " '/home/jb/data/bids/ds105/sub-4/func/sub-4_task-objectviewing_run-05_bold.nii.gz',\n",
       " '/home/jb/data/bids/ds105/sub-6/func/sub-6_task-objectviewing_run-05_bold.nii.gz',\n",
       " '/home/jb/data/bids/ds105/sub-5/func/sub-5_task-objectviewing_run-05_bold.nii.gz',\n",
       " '/home/jb/data/bids/ds105/sub-3/func/sub-3_task-objectviewing_run-06_bold.nii.gz',\n",
       " '/home/jb/data/bids/ds105/sub-3/func/sub-3_task-objectviewing_run-09_bold.nii.gz',\n",
       " '/home/jb/data/bids/ds105/sub-4/func/sub-4_task-objectviewing_run-11_bold.nii.gz',\n",
       " '/home/jb/data/bids/ds105/sub-1/func/sub-1_task-objectviewing_run-09_bold.nii.gz',\n",
       " '/home/jb/data/bids/ds105/sub-1/func/sub-1_task-objectviewing_run-02_bold.nii.gz',\n",
       " '/home/jb/data/bids/ds105/sub-4/func/sub-4_task-objectviewing_run-08_bold.nii.gz',\n",
       " '/home/jb/data/bids/ds105/sub-1/func/sub-1_task-objectviewing_run-05_bold.nii.gz',\n",
       " '/home/jb/data/bids/ds105/sub-5/func/sub-5_task-objectviewing_run-06_bold.nii.gz',\n",
       " '/home/jb/data/bids/ds105/sub-2/func/sub-2_task-objectviewing_run-01_bold.nii.gz']"
      ]
     },
     "execution_count": 19,
     "metadata": {},
     "output_type": "execute_result"
    }
   ],
   "source": []
  },
  {
   "cell_type": "code",
   "execution_count": 142,
   "metadata": {
    "collapsed": false
   },
   "outputs": [
    {
     "name": "stdout",
     "output_type": "stream",
     "text": [
      "base dir /home/jb/data/bids/ds105/sub-2/func\n",
      "json_model /home/jb/data/bids/ds105/sub-2/func/models/ds-105_sub-2_model.json\n"
     ]
    }
   ],
   "source": [
    "data = utils.get_json_model_Ydata(all_jsons[0], level='Run', verbose=utils.VERB['info'])"
   ]
  },
  {
   "cell_type": "code",
   "execution_count": 143,
   "metadata": {
    "collapsed": false
   },
   "outputs": [
    {
     "name": "stdout",
     "output_type": "stream",
     "text": [
      "[ '/home/jb/data/bids/ds105/sub-2/func/sub-2_task-objectviewing_run-03_bold.nii.gz',\n",
      "  '/home/jb/data/bids/ds105/sub-2/func/sub-2_task-objectviewing_run-05_bold.nii.gz',\n",
      "  '/home/jb/data/bids/ds105/sub-2/func/sub-2_task-objectviewing_run-12_bold.nii.gz',\n",
      "  '/home/jb/data/bids/ds105/sub-2/func/sub-2_task-objectviewing_run-02_bold.nii.gz',\n",
      "  '/home/jb/data/bids/ds105/sub-2/func/sub-2_task-objectviewing_run-10_bold.nii.gz',\n",
      "  '/home/jb/data/bids/ds105/sub-2/func/sub-2_task-objectviewing_run-08_bold.nii.gz',\n",
      "  '/home/jb/data/bids/ds105/sub-2/func/sub-2_task-objectviewing_run-07_bold.nii.gz',\n",
      "  '/home/jb/data/bids/ds105/sub-2/func/sub-2_task-objectviewing_run-04_bold.nii.gz',\n",
      "  '/home/jb/data/bids/ds105/sub-2/func/sub-2_task-objectviewing_run-11_bold.nii.gz',\n",
      "  '/home/jb/data/bids/ds105/sub-2/func/sub-2_task-objectviewing_run-09_bold.nii.gz']\n"
     ]
    }
   ],
   "source": [
    "pp.pprint(data[:min(10, len(data))])"
   ]
  },
  {
   "cell_type": "code",
   "execution_count": 144,
   "metadata": {
    "collapsed": false
   },
   "outputs": [],
   "source": [
    "model_pattern = \"*_model.json\"\n",
    "model_data = utils.get_funcs_models(base_dir, model_pattern, verbose=utils.VERB['none'])"
   ]
  },
  {
   "cell_type": "code",
   "execution_count": 145,
   "metadata": {
    "collapsed": false
   },
   "outputs": [
    {
     "name": "stdout",
     "output_type": "stream",
     "text": [
      "{ u'Columns': { u'face': { u'HRFmodelling': u'Gamma',\n",
      "                           u'Level': u'face',\n",
      "                           u'Variable': u'trial_type'},\n",
      "                u'house': { u'HRFmodelling': u'Gamma',\n",
      "                            u'Level': u'house',\n",
      "                            u'Variable': u'trial_type'}},\n",
      "  u'Contrasts': { u'face_vs_house': { u'Columns': [u'face', u'house'],\n",
      "                                      u'Weights': [1, -1]},\n",
      "                  u'house_vs_face': { u'Columns': [u'face', u'house'],\n",
      "                                      u'Weights': [1, -1]}},\n",
      "  u'DependentVariable': u'task-objectviewing',\n",
      "  u'Level': u'Run',\n",
      "  u'Name': u'run_level_simple'}\n"
     ]
    }
   ],
   "source": [
    "datafile = data[0]\n",
    "model_dict = model_data[datafile]\n",
    "pp.pprint(model_dict)"
   ]
  },
  {
   "cell_type": "code",
   "execution_count": 146,
   "metadata": {
    "collapsed": false
   },
   "outputs": [
    {
     "name": "stdout",
     "output_type": "stream",
     "text": [
      "/home/jb/data/bids/ds105/sub-2/func/sub-2_task-objectviewing_run-03_events.tsv\n"
     ]
    }
   ],
   "source": [
    "import pandas as pd\n",
    "tsv_file = datafile.split('_bold.nii')[0] + '_events.tsv'\n",
    "assert osp.isfile(tsv_file), \"{} is not a file \".format(tsv_file)\n",
    "print(tsv_file)"
   ]
  },
  {
   "cell_type": "code",
   "execution_count": 147,
   "metadata": {
    "collapsed": false
   },
   "outputs": [],
   "source": [
    "dic = utils._get_json_dict_from_tsv_file(tsv_file)\n",
    "#utils._get_tsv_lines(dic, 'trial_type', 'chair')"
   ]
  },
  {
   "cell_type": "code",
   "execution_count": 148,
   "metadata": {
    "collapsed": false
   },
   "outputs": [
    {
     "name": "stdout",
     "output_type": "stream",
     "text": [
      "[u'Contrasts', u'DependentVariable', u'Name', u'Columns', u'Level']\n",
      "{ u'face': { u'HRFmodelling': u'Gamma',\n",
      "             u'Level': u'face',\n",
      "             u'Variable': u'trial_type'},\n",
      "  u'house': { u'HRFmodelling': u'Gamma',\n",
      "              u'Level': u'house',\n",
      "              u'Variable': u'trial_type'}}\n"
     ]
    }
   ],
   "source": [
    "model_dict = model_data[datafile]\n",
    "print(model_dict.keys())\n",
    "regressors = model_dict['Columns']\n",
    "pp.pprint(regressors)"
   ]
  },
  {
   "cell_type": "code",
   "execution_count": 149,
   "metadata": {
    "collapsed": false
   },
   "outputs": [],
   "source": [
    "list_dicts = utils.get_run_conditions(datafile, model_dict)\n",
    "condition_names = list_dicts.keys()"
   ]
  },
  {
   "cell_type": "code",
   "execution_count": null,
   "metadata": {
    "collapsed": false
   },
   "outputs": [],
   "source": []
  },
  {
   "cell_type": "code",
   "execution_count": 150,
   "metadata": {
    "collapsed": false
   },
   "outputs": [],
   "source": [
    "#pp.pprint(list_dicts)\n",
    "for datafile in data[:min(10, len(data))]:\n",
    "    #print(datafile)\n",
    "    try: \n",
    "        nipype_info = utils.get_nipype_run_info(datafile, model_dict, verbose=utils.VERB['none'])\n",
    "    except:\n",
    "        print(datafile, ' : has a pb ... a condition has no event ')"
   ]
  },
  {
   "cell_type": "code",
   "execution_count": null,
   "metadata": {
    "collapsed": true
   },
   "outputs": [],
   "source": []
  },
  {
   "cell_type": "code",
   "execution_count": 151,
   "metadata": {
    "collapsed": false
   },
   "outputs": [],
   "source": [
    "#print(datafile)\n",
    "#pp.pprint(nipype_info)\n",
    "#print(nipype_info)"
   ]
  },
  {
   "cell_type": "code",
   "execution_count": 152,
   "metadata": {
    "collapsed": false
   },
   "outputs": [],
   "source": [
    "dict_regressors = utils.get_run_conditions(datafile, model_dict)#, verbose=verbose)\n",
    "condition_names = dict_regressors.keys() \n",
    "#print(dict_regressors)\n",
    "bunch = utils.make_nipype_bunch(dict_regressors)"
   ]
  },
  {
   "cell_type": "code",
   "execution_count": 153,
   "metadata": {
    "collapsed": false
   },
   "outputs": [
    {
     "data": {
      "text/plain": [
       "Bunch(conditions=[u'house', u'face'], durations=[[0.5, 0.5, 0.5, 0.5, 0.5, 0.5, 0.5, 0.5, 0.5, 0.5, 0.5, 0.5], [0.5, 0.5, 0.5, 0.5, 0.5, 0.5, 0.5, 0.5, 0.5, 0.5, 0.5, 0.5]], onsets=[[120.0, 122.0, 124.0, 126.0, 128.0, 130.0, 132.0, 134.0, 136.0, 138.0, 140.0, 142.0], [12.0, 14.0, 16.0, 18.0, 20.0, 22.0, 24.0, 26.0, 28.0, 30.0, 32.0, 34.0]], pmod=[[], []])"
      ]
     },
     "execution_count": 153,
     "metadata": {},
     "output_type": "execute_result"
    }
   ],
   "source": [
    "bunch"
   ]
  },
  {
   "cell_type": "markdown",
   "metadata": {},
   "source": [
    "### copy a ds tree with only the json and tsv files"
   ]
  },
  {
   "cell_type": "code",
   "execution_count": 154,
   "metadata": {
    "collapsed": false
   },
   "outputs": [],
   "source": [
    "source_dir = '/home/jb/data/bids/ds005'\n",
    "dest_dir = '/home/jb/code/bids2pype/bids2pype/tests/data/ds005'\n",
    "# utils.create_empty_bids(source_dir, dest_dir, ['*.json','*.tsv'])"
   ]
  },
  {
   "cell_type": "code",
   "execution_count": 155,
   "metadata": {
    "collapsed": false
   },
   "outputs": [
    {
     "data": {
      "text/plain": [
       "['/home/jb/data/bids/ds105/models/ds-105_sub-all_model.json',\n",
       " '/home/jb/data/bids/ds105/sub-2/func/models/ds-105_sub-2_model.json']"
      ]
     },
     "execution_count": 155,
     "metadata": {},
     "output_type": "execute_result"
    }
   ],
   "source": [
    "utils._sorted_by_depth('/home/jb/data/bids/ds105', \"*sub*_model.json\")"
   ]
  },
  {
   "cell_type": "code",
   "execution_count": 157,
   "metadata": {
    "collapsed": false
   },
   "outputs": [
    {
     "name": "stdout",
     "output_type": "stream",
     "text": [
      "objectviewing\n"
     ]
    }
   ],
   "source": [
    "res = utils._get_substr_between(datafile, 'task-', '_')\n",
    "print(res)"
   ]
  },
  {
   "cell_type": "code",
   "execution_count": null,
   "metadata": {
    "collapsed": true
   },
   "outputs": [],
   "source": []
  }
 ],
 "metadata": {
  "kernelspec": {
   "display_name": "Python 2",
   "language": "python",
   "name": "python2"
  },
  "language_info": {
   "codemirror_mode": {
    "name": "ipython",
    "version": 2
   },
   "file_extension": ".py",
   "mimetype": "text/x-python",
   "name": "python",
   "nbconvert_exporter": "python",
   "pygments_lexer": "ipython2",
   "version": "2.7.6"
  }
 },
 "nbformat": 4,
 "nbformat_minor": 0
}
