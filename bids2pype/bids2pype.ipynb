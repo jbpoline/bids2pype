{
 "cells": [
  {
   "cell_type": "code",
   "execution_count": 1,
   "metadata": {
    "collapsed": false
   },
   "outputs": [
    {
     "data": {
      "text/plain": [
       "<module 'utils' from 'utils.pyc'>"
      ]
     },
     "execution_count": 1,
     "metadata": {},
     "output_type": "execute_result"
    }
   ],
   "source": [
    "from __future__ import print_function, division\n",
    "import pprint\n",
    "import os \n",
    "import fnmatch\n",
    "import os.path as osp\n",
    "import json\n",
    "import glob as gb\n",
    "from six import string_types\n",
    "from nipype.interfaces.base import Bunch\n",
    "\n",
    "import utils\n",
    "reload(utils)"
   ]
  },
  {
   "cell_type": "code",
   "execution_count": 2,
   "metadata": {
    "collapsed": false
   },
   "outputs": [],
   "source": [
    "pp = pprint.PrettyPrinter(indent=2)"
   ]
  },
  {
   "cell_type": "code",
   "execution_count": 3,
   "metadata": {
    "collapsed": false
   },
   "outputs": [
    {
     "name": "stdout",
     "output_type": "stream",
     "text": [
      "{'model_pattern': 'ds-005_type-russ*_model.json', 'base_dir': '/home/jb/code/bids2pype/bids2pype/tests/data/ds005'}\n"
     ]
    }
   ],
   "source": [
    "#- testing\n",
    "JBBIDS = osp.join(osp.expanduser('~'),'data','bids','ds105')\n",
    "BIDS2PYPE = osp.join(osp.expanduser('~'),'code','bids2pype','bids2pype')\n",
    "TESTBIDS = osp.join(BIDS2PYPE, 'tests','data','ds005')\n",
    "\n",
    "test_case_105a = {\n",
    "    'base_dir': JBBIDS,\n",
    "    'model_pattern': \"ds-105_level-run_sub*_model.json\"\n",
    "}\n",
    "test_case_105b = {\n",
    "    'base_dir': JBBIDS,\n",
    "    'model_pattern': \"ds-105_level-all_model.json\"\n",
    "}\n",
    "test_case_005 = {\n",
    "    'base_dir': JBBIDS,\n",
    "    'model_pattern': \"*_model.json\"\n",
    "}\n",
    "test_case_005r = {\n",
    "    'base_dir': JBBIDS,\n",
    "    'model_pattern': \"ds-005_type-russ*_model.json\"\n",
    "}\n",
    "\n",
    "test_case_005t = {\n",
    "    'base_dir': TESTBIDS,\n",
    "    'model_pattern': \"ds-005_type-russ*_model.json\"\n",
    "}\n",
    "\n",
    "test_case = test_case_005t\n",
    "\n",
    "base_dir, model_pattern = test_case['base_dir'], test_case['model_pattern'] \n",
    "print(test_case) "
   ]
  },
  {
   "cell_type": "markdown",
   "metadata": {},
   "source": [
    "## Association between data and model "
   ]
  },
  {
   "cell_type": "code",
   "execution_count": 4,
   "metadata": {
    "collapsed": false
   },
   "outputs": [
    {
     "name": "stdout",
     "output_type": "stream",
     "text": [
      "/home/jb/code/bids2pype/bids2pype/tests/data/ds005/sub-01/func/sub-01_task-mixedgamblestask_run-01_bold.nii.gz\n",
      "[u'param-loss-neg', u'param-gain', u'task>Baseline']\n"
     ]
    }
   ],
   "source": [
    "# take a model such as ds-005_type-russ*_model.json and associate data to this model\n",
    "# This is a dictionary with keys being the data and value the model to be applied to\n",
    "# these data\n",
    "# Returns: the data dictionary and the base dir\n",
    "assos_model_data = utils.associate_model_data(base_dir, model_pattern, \n",
    "                                                  verbose=utils.VERB['none'])\n",
    "\n",
    "# The data dictionary  \n",
    "data_dict = assos_model_data['data_dict']\n",
    "\n",
    "# Take the first datafile : first key of the data_dict\n",
    "datafile = sorted(data_dict.keys())[0]\n",
    "print(datafile)\n",
    "pp.pprint(data_dict[datafile]['Contrasts'].keys())"
   ]
  },
  {
   "cell_type": "markdown",
   "metadata": {},
   "source": [
    "## Have a look at the model dictionary for a datafile"
   ]
  },
  {
   "cell_type": "code",
   "execution_count": 5,
   "metadata": {
    "collapsed": false
   },
   "outputs": [
    {
     "name": "stdout",
     "output_type": "stream",
     "text": [
      "\n",
      "Model for \n",
      "/home/jb/code/bids2pype/bids2pype/tests/data/ds005/sub-01/func/sub-01_task-mixedgamblestask_run-01_bold.nii.gz :\n",
      "{ u'Columns': { u'motion-param': { u'FileSelector': { u'EntitiesKeys': { u'run': u'run',\n",
      "                                                                         u'subject': u'sub'},\n",
      "                                                      u'pattern': u'derivatives/mcflirt/par/_runcode_{0[run]:1d}/_subject_id_sub-{0[sub]}/sub-{0[sub]}_task-mixedgamblestask_run-{0[run]}_bold_mcf.nii.gz.par'},\n",
      "                                   u'Regressors': [u'all', u'deriv1']},\n",
      "                u'param-gain': { u'Demean': True,\n",
      "                                 u'HRFModelling': u'Gamma+derivs',\n",
      "                                 u'Level': u'n/a',\n",
      "                                 u'ModulationOrder': 1,\n",
      "                                 u'ModulationVar': u'gain',\n",
      "                                 u'Variable': u'trial_type',\n",
      "                                 u'duration': 1.3932149481304148},\n",
      "                u'param-loss': { u'Demean': True,\n",
      "                                 u'HRFModelling': u'Gamma+derivs',\n",
      "                                 u'Level': u'n/a',\n",
      "                                 u'ModulationVar': u'loss',\n",
      "                                 u'Variable': u'trial_type',\n",
      "                                 u'duration': 1.3932149481304148},\n",
      "                u'param-rt': { u'Demean': True,\n",
      "                               u'HRFModelling': u'Gamma+derivs',\n",
      "                               u'Level': u'n/a',\n",
      "                               u'ModulationVar': u'RT',\n",
      "                               u'Variable': u'trial_type',\n",
      "                               u'duration': 1.3932149481304148},\n",
      "                u'task': { u'HRFModelling': u'Gamma',\n",
      "                           u'Level': u'n/a',\n",
      "                           u'Variable': u'trial_type',\n",
      "                           u'duration': 1.3932149481304148}},\n",
      "  u'Contrasts': { u'param-gain': { u'Columns': [u'param-gain'],\n",
      "                                   u'Statistic': u'T',\n",
      "                                   u'Weights': [1]},\n",
      "                  u'param-loss-neg': { u'Columns': [u'param-loss'],\n",
      "                                       u'Statistic': u'T',\n",
      "                                       u'Weights': [-1]},\n",
      "                  u'task>Baseline': { u'Columns': [u'task'],\n",
      "                                      u'Statistic': u'T',\n",
      "                                      u'Weights': [1]}},\n",
      "  u'DependentVariable': u'task-mixedgamblestask',\n",
      "  u'Error': { u'SerialCorrelations': True},\n",
      "  u'HighPassFilterCutoff': 80,\n",
      "  u'Level': u'Run'}\n",
      "\n",
      "Constrasts\n",
      "[ (u'param-loss-neg', u'T', [u'param-loss'], [-1]),\n",
      "  (u'task>Baseline', u'T', [u'task'], [1]),\n",
      "  (u'param-gain', u'T', [u'param-gain'], [1])]\n"
     ]
    }
   ],
   "source": [
    "# get model dictionary for the datafile (the data, ie. the \"Y\")\n",
    "model_dict = data_dict[datafile]\n",
    "print(\"\\nModel for \\n{} :\".format(datafile))\n",
    "pp.pprint(model_dict)\n",
    "# get the contrasts (the model json file contains the description of the contrasts)\n",
    "print(\"\\nConstrasts\")\n",
    "contrasts = utils._get_nipype_contrasts(model_dict)\n",
    "pp.pprint(contrasts)"
   ]
  },
  {
   "cell_type": "markdown",
   "metadata": {},
   "source": [
    "## Get Nipype inputs and bunches for this bids"
   ]
  },
  {
   "cell_type": "code",
   "execution_count": 6,
   "metadata": {
    "collapsed": false
   },
   "outputs": [
    {
     "name": "stdout",
     "output_type": "stream",
     "text": [
      "\n",
      "Specifymodel_inputs:\n",
      "{ 'high_pass_filter_cutoff': 80, 'input_units': 'secs', 'time_repetition': 2.0}\n",
      "\n",
      "sorted_data[:3]:\n",
      "[ '/home/jb/code/bids2pype/bids2pype/tests/data/ds005/sub-01/func/sub-01_task-mixedgamblestask_run-01_bold.nii.gz',\n",
      "  '/home/jb/code/bids2pype/bids2pype/tests/data/ds005/sub-01/func/sub-01_task-mixedgamblestask_run-02_bold.nii.gz',\n",
      "  '/home/jb/code/bids2pype/bids2pype/tests/data/ds005/sub-01/func/sub-01_task-mixedgamblestask_run-03_bold.nii.gz']\n",
      "\n",
      "sorted_bunch[0].conditions[3]:\n",
      "param-gain\n",
      "\n",
      "sorted_bunch[0].amplitudes[3]:\n",
      "[-5.5581395348837219, -7.5581395348837219, -15.558139534883722, 8.4418604651162781, -7.5581395348837219, 0.44186046511627808, 6.4418604651162781, -9.5581395348837219, -3.5581395348837219, 10.441860465116278, -9.5581395348837219, 4.4418604651162781, -11.558139534883722, 2.4418604651162781, -11.558139534883722, 0.44186046511627808, 14.441860465116278, 2.4418604651162781, -5.5581395348837219, 0.44186046511627808, 6.4418604651162781, -7.5581395348837219, -5.5581395348837219, -5.5581395348837219, 14.441860465116278, 10.441860465116278, -9.5581395348837219, 14.441860465116278, -15.558139534883722, -13.558139534883722, 8.4418604651162781, -7.5581395348837219, 14.441860465116278, 6.4418604651162781, -11.558139534883722, 6.4418604651162781, 10.441860465116278, 2.4418604651162781, 8.4418604651162781, 12.441860465116278, 6.4418604651162781, 6.4418604651162781, 4.4418604651162781, 8.4418604651162781, -7.5581395348837219, 8.4418604651162781, 6.4418604651162781, -1.5581395348837219, 12.441860465116278, 12.441860465116278, -1.5581395348837219, -9.5581395348837219, 10.441860465116278, 6.4418604651162781, 8.4418604651162781, 2.4418604651162781, -1.5581395348837219, 12.441860465116278, -3.5581395348837219, -15.558139534883722, -13.558139534883722, 8.4418604651162781, 12.441860465116278, 4.4418604651162781, 0.44186046511627808, -11.558139534883722, -9.5581395348837219, -3.5581395348837219, -13.558139534883722, -15.558139534883722, -7.5581395348837219, -13.558139534883722, 6.4418604651162781, -7.5581395348837219, 14.441860465116278, -11.558139534883722, 4.4418604651162781, -1.5581395348837219, -15.558139534883722, 14.441860465116278, -1.5581395348837219, -9.5581395348837219, 10.441860465116278, 0.44186046511627808, -5.5581395348837219, -1.5581395348837219]\n"
     ]
    }
   ],
   "source": [
    "specifymodel_inputs, bunches, data = \\\n",
    "    utils._get_nipype_specify_model_inputs(base_dir, model_pattern, bunch_type='fsl', \n",
    "                                                                 verbose=utils.VERB['none'])\n",
    "\n",
    "sorted_bunch = [b for (d,b) in sorted(zip(data, bunches))]\n",
    "sorted_data = sorted(data)\n",
    "        \n",
    "print('\\nSpecifymodel_inputs:')\n",
    "pp.pprint(specifymodel_inputs)\n",
    "print('\\nsorted_data[:3]:')\n",
    "pp.pprint(sorted_data[:3]) \n",
    "\n",
    "#print(sorted_bunch[0].conditions)\n",
    "print(\"\\nsorted_bunch[0].conditions[3]:\")\n",
    "print(sorted_bunch[0].conditions[3])\n",
    "print(\"\\nsorted_bunch[0].amplitudes[3]:\")\n",
    "print(sorted_bunch[0].amplitudes[3])\n",
    "#print(index_gain)"
   ]
  },
  {
   "cell_type": "markdown",
   "metadata": {},
   "source": [
    "### copy a ds tree with only the json and tsv files"
   ]
  },
  {
   "cell_type": "code",
   "execution_count": 7,
   "metadata": {
    "collapsed": false
   },
   "outputs": [],
   "source": [
    "source_dir = '/home/jb/data/bids/ds005'\n",
    "dest_dir = '/home/jb/code/bids2pype/bids2pype/tests/data/ds005'\n",
    "# utils.create_empty_bids(source_dir, dest_dir, ['*.json','*.tsv', '*.par'])"
   ]
  }
 ],
 "metadata": {
  "kernelspec": {
   "display_name": "Python 2",
   "language": "python",
   "name": "python2"
  },
  "language_info": {
   "codemirror_mode": {
    "name": "ipython",
    "version": 2
   },
   "file_extension": ".py",
   "mimetype": "text/x-python",
   "name": "python",
   "nbconvert_exporter": "python",
   "pygments_lexer": "ipython2",
   "version": "2.7.11+"
  }
 },
 "nbformat": 4,
 "nbformat_minor": 0
}
