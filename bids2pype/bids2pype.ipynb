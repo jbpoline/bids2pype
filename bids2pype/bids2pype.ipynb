{
 "cells": [
  {
   "cell_type": "code",
   "execution_count": 1,
   "metadata": {
    "collapsed": false
   },
   "outputs": [
    {
     "data": {
      "text/plain": [
       "<module 'utils' from 'utils.pyc'>"
      ]
     },
     "execution_count": 1,
     "metadata": {},
     "output_type": "execute_result"
    }
   ],
   "source": [
    "from __future__ import print_function, division\n",
    "import pprint\n",
    "import os \n",
    "import fnmatch\n",
    "#import errno\n",
    "import os.path as osp\n",
    "import json\n",
    "#import re\n",
    "import glob as gb\n",
    "from six import string_types\n",
    "\n",
    "import utils\n",
    "reload(utils)"
   ]
  },
  {
   "cell_type": "code",
   "execution_count": 2,
   "metadata": {
    "collapsed": false
   },
   "outputs": [],
   "source": [
    "pp = pprint.PrettyPrinter(indent=2)"
   ]
  },
  {
   "cell_type": "code",
   "execution_count": 3,
   "metadata": {
    "collapsed": false
   },
   "outputs": [
    {
     "name": "stdout",
     "output_type": "stream",
     "text": [
      "['/home/jb/data/bids/ds005/models/ds-005_model.json']\n"
     ]
    }
   ],
   "source": [
    "#- testing\n",
    "\n",
    "test_case_105a = {\n",
    "    'base_dir': '/home/jb/data/bids/ds105',\n",
    "    'model_pattern': \"ds-105_sub*_model.json\"\n",
    "}\n",
    "test_case_105b = {\n",
    "    'base_dir': '/home/jb/data/bids/ds105',\n",
    "    'model_pattern': \"ds-105_level-all_model.json\"\n",
    "}\n",
    "test_case_005 = {\n",
    "    'base_dir': '/home/jb/data/bids/ds005',\n",
    "    'model_pattern': \"*_model.json\"\n",
    "}\n",
    "\n",
    "test_case = test_case_005\n",
    "#test_case = test_case_105a\n",
    "#test_case = test_case_105b\n",
    "\n",
    "base_dir, model_pattern = test_case['base_dir'], test_case['model_pattern'] \n",
    "\n",
    "all_jsons = utils.glob_recursive(base_dir, model_pattern)\n",
    "print(all_jsons)\n",
    "json_model=all_jsons[0]"
   ]
  },
  {
   "cell_type": "code",
   "execution_count": 4,
   "metadata": {
    "collapsed": false
   },
   "outputs": [
    {
     "name": "stdout",
     "output_type": "stream",
     "text": [
      "base dir /home/jb/data/bids/ds005\n",
      "json_model /home/jb/data/bids/ds005/models/ds-005_model.json\n"
     ]
    }
   ],
   "source": [
    "data = utils.get_json_model_Ydata(all_jsons[0], level='Run', verbose=utils.VERB['info'])"
   ]
  },
  {
   "cell_type": "code",
   "execution_count": 5,
   "metadata": {
    "collapsed": false
   },
   "outputs": [
    {
     "name": "stdout",
     "output_type": "stream",
     "text": [
      "[ '/home/jb/data/bids/ds005/sub-01/func/sub-01_task-mixedgamblestask_run-01_bold.nii.gz',\n",
      "  '/home/jb/data/bids/ds005/sub-01/func/sub-01_task-mixedgamblestask_run-02_bold.nii.gz',\n",
      "  '/home/jb/data/bids/ds005/sub-01/func/sub-01_task-mixedgamblestask_run-03_bold.nii.gz',\n",
      "  '/home/jb/data/bids/ds005/sub-03/func/sub-03_task-mixedgamblestask_run-01_bold.nii.gz',\n",
      "  '/home/jb/data/bids/ds005/sub-03/func/sub-03_task-mixedgamblestask_run-03_bold.nii.gz',\n",
      "  '/home/jb/data/bids/ds005/sub-03/func/sub-03_task-mixedgamblestask_run-02_bold.nii.gz',\n",
      "  '/home/jb/data/bids/ds005/sub-08/func/sub-08_task-mixedgamblestask_run-02_bold.nii.gz',\n",
      "  '/home/jb/data/bids/ds005/sub-08/func/sub-08_task-mixedgamblestask_run-01_bold.nii.gz',\n",
      "  '/home/jb/data/bids/ds005/sub-08/func/sub-08_task-mixedgamblestask_run-03_bold.nii.gz',\n",
      "  '/home/jb/data/bids/ds005/sub-12/func/sub-12_task-mixedgamblestask_run-02_bold.nii.gz']\n"
     ]
    }
   ],
   "source": [
    "pp.pprint(data[:min(10, len(data))])"
   ]
  },
  {
   "cell_type": "code",
   "execution_count": 6,
   "metadata": {
    "collapsed": false
   },
   "outputs": [],
   "source": [
    "model_pattern = \"*_model.json\"\n",
    "model_data = utils.get_funcs_models(base_dir, model_pattern, verbose=utils.VERB['none'])"
   ]
  },
  {
   "cell_type": "code",
   "execution_count": 7,
   "metadata": {
    "collapsed": false
   },
   "outputs": [
    {
     "name": "stdout",
     "output_type": "stream",
     "text": [
      "{ u'Columns': { u'dummy': { u'HRFmodelling': u'Gamma',\n",
      "                            u'Level': -1,\n",
      "                            u'Variable': u'respcat',\n",
      "                            u'prm_modulation': u'RT'},\n",
      "                u'gain': { u'HRFmodelling': u'Gamma',\n",
      "                           u'Level': 0,\n",
      "                           u'Variable': u'respcat',\n",
      "                           u'prm_modulation': u'RT'},\n",
      "                u'loss': { u'HRFmodelling': u'Gamma',\n",
      "                           u'Level': 1,\n",
      "                           u'Variable': u'respcat',\n",
      "                           u'prm_modulation': u'RT'}},\n",
      "  u'Contrasts': { u'pos_vs_neg_contrast': { u'Columns': [u'gain', u'loss'],\n",
      "                                            u'Weights': [1, -1]}},\n",
      "  u'DependentVariable': u'task-mixedgamblestask',\n",
      "  u'Level': u'Run'}\n"
     ]
    }
   ],
   "source": [
    "datafile = data[0]\n",
    "model_dict = model_data[datafile]\n",
    "pp.pprint(model_dict)"
   ]
  },
  {
   "cell_type": "code",
   "execution_count": 8,
   "metadata": {
    "collapsed": false
   },
   "outputs": [
    {
     "name": "stdout",
     "output_type": "stream",
     "text": [
      "/home/jb/data/bids/ds005/sub-01/func/sub-01_task-mixedgamblestask_run-01_events.tsv\n"
     ]
    }
   ],
   "source": [
    "import pandas as pd\n",
    "tsv_file = datafile.split('_bold.nii')[0] + '_events.tsv'\n",
    "assert osp.isfile(tsv_file), \"{} is not a file \".format(tsv_file)\n",
    "print(tsv_file)"
   ]
  },
  {
   "cell_type": "code",
   "execution_count": 9,
   "metadata": {
    "collapsed": false
   },
   "outputs": [],
   "source": [
    "dic = utils._get_json_dict_from_tsv_file(tsv_file)\n",
    "#utils._get_tsv_lines(dic, 'trial_type', 'chair')"
   ]
  },
  {
   "cell_type": "code",
   "execution_count": 10,
   "metadata": {
    "collapsed": false
   },
   "outputs": [
    {
     "name": "stdout",
     "output_type": "stream",
     "text": [
      "[u'Contrasts', u'DependentVariable', u'Columns', u'Level']\n",
      "{ u'dummy': { u'HRFmodelling': u'Gamma',\n",
      "              u'Level': -1,\n",
      "              u'Variable': u'respcat',\n",
      "              u'prm_modulation': u'RT'},\n",
      "  u'gain': { u'HRFmodelling': u'Gamma',\n",
      "             u'Level': 0,\n",
      "             u'Variable': u'respcat',\n",
      "             u'prm_modulation': u'RT'},\n",
      "  u'loss': { u'HRFmodelling': u'Gamma',\n",
      "             u'Level': 1,\n",
      "             u'Variable': u'respcat',\n",
      "             u'prm_modulation': u'RT'}}\n"
     ]
    }
   ],
   "source": [
    "model_dict = model_data[datafile]\n",
    "print(model_dict.keys())\n",
    "regressors = model_dict['Columns']\n",
    "pp.pprint(regressors)"
   ]
  },
  {
   "cell_type": "code",
   "execution_count": 11,
   "metadata": {
    "collapsed": false
   },
   "outputs": [],
   "source": [
    "condition_names, list_dicts = utils.get_run_conditions(datafile, model_dict)"
   ]
  },
  {
   "cell_type": "code",
   "execution_count": 12,
   "metadata": {
    "collapsed": false
   },
   "outputs": [
    {
     "data": {
      "text/plain": [
       "[u'dummy', u'gain', u'loss']"
      ]
     },
     "execution_count": 12,
     "metadata": {},
     "output_type": "execute_result"
    }
   ],
   "source": [
    "condition_names"
   ]
  },
  {
   "cell_type": "code",
   "execution_count": 13,
   "metadata": {
    "collapsed": false
   },
   "outputs": [],
   "source": [
    "#pp.pprint(list_dicts)\n",
    "nipype_info = utils.get_nipype_run_info(datafile, model_dict, verbose=utils.VERB['none'])"
   ]
  },
  {
   "cell_type": "code",
   "execution_count": 14,
   "metadata": {
    "collapsed": false
   },
   "outputs": [
    {
     "name": "stdout",
     "output_type": "stream",
     "text": [
      "/home/jb/data/bids/ds005/sub-01/func/sub-01_task-mixedgamblestask_run-01_bold.nii.gz\n",
      "{'prm_modulation': [[0.0], [1.6369999999999998, 1.8220000000000001, 1.206, 1.321, 1.2150000000000001, 1.0469999999999999, 1.137, 1.0820000000000001, 1.585, 1.806, 1.6000000000000001, 1.5980000000000001, 1.3680000000000001, 2.302, 1.6869999999999998, 1.383, 1.7849999999999999], [1.7929999999999999, 1.3159999999999998, 1.6699999999999999, 1.232, 1.5019999999999998, 1.925, 1.0609999999999999, 1.079, 1.4770000000000001, 1.599, 1.405, 1.272, 0.90000000000000002, 1.3180000000000001, 1.367, 1.5659999999999998, 1.3600000000000001, 1.4330000000000001, 0.82400000000000007, 0.90300000000000002, 1.169, 1.0960000000000001, 2.2000000000000002, 0.77599999999999991, 1.3360000000000001, 1.3620000000000001, 1.786, 1.107, 1.2430000000000001, 1.1120000000000001, 1.2350000000000001, 0.86599999999999999, 1.6269999999999998, 1.0, 1.526, 1.2509999999999999, 2.2799999999999998, 1.242, 1.0109999999999999, 1.0429999999999999, 1.1719999999999999, 1.115, 1.75, 0.91800000000000004, 0.7340000000000001, 1.0669999999999999, 1.6000000000000001, 0.80500000000000005, 1.3899999999999999, 1.2370000000000001, 0.95699999999999996, 0.877, 1.454, 1.9039999999999999, 1.486, 1.3200000000000001, 1.4330000000000001, 0.999, 1.071, 0.78299999999999992, 1.167, 1.145, 0.86199999999999999, 0.83400000000000007, 1.28, 1.3939999999999999, 1.2490000000000001, 1.266]], 'durations': [[3], [3, 3, 3, 3, 3, 3, 3, 3, 3, 3, 3, 3, 3, 3, 3, 3, 3], [3, 3, 3, 3, 3, 3, 3, 3, 3, 3, 3, 3, 3, 3, 3, 3, 3, 3, 3, 3, 3, 3, 3, 3, 3, 3, 3, 3, 3, 3, 3, 3, 3, 3, 3, 3, 3, 3, 3, 3, 3, 3, 3, 3, 3, 3, 3, 3, 3, 3, 3, 3, 3, 3, 3, 3, 3, 3, 3, 3, 3, 3, 3, 3, 3, 3, 3, 3]], 'condition_names': [u'dummy', u'gain', u'loss'], 'tmp_modulation': [None, None, None], 'HRF': [u'Gamma', u'Gamma', u'Gamma'], 'onsets': [[0.0], [8.0, 74.0, 82.0, 110.0, 120.0, 134.0, 148.0, 156.0, 178.0, 342.0, 346.0, 382.0, 386.0, 402.0, 424.0, 440.0, 458.0], [4.0, 18.0, 24.0, 28.0, 38.0, 42.0, 46.0, 52.0, 56.0, 62.0, 78.0, 86.0, 90.0, 94.0, 98.0, 102.0, 106.0, 116.0, 126.0, 130.0, 140.0, 160.0, 164.0, 170.0, 174.0, 182.0, 192.0, 202.0, 208.0, 212.0, 220.0, 224.0, 234.0, 238.0, 246.0, 250.0, 256.0, 260.0, 266.0, 272.0, 280.0, 284.0, 296.0, 310.0, 316.0, 320.0, 324.0, 330.0, 336.0, 350.0, 360.0, 364.0, 368.0, 374.0, 378.0, 398.0, 408.0, 412.0, 416.0, 420.0, 428.0, 436.0, 444.0, 448.0, 462.0, 466.0, 470.0, 474.0]]}\n"
     ]
    }
   ],
   "source": [
    "print(datafile)\n",
    "#pp.pprint(nipype_info)\n",
    "print(nipype_info)"
   ]
  },
  {
   "cell_type": "code",
   "execution_count": null,
   "metadata": {
    "collapsed": true
   },
   "outputs": [],
   "source": []
  },
  {
   "cell_type": "code",
   "execution_count": null,
   "metadata": {
    "collapsed": true
   },
   "outputs": [],
   "source": []
  }
 ],
 "metadata": {
  "kernelspec": {
   "display_name": "Python 2",
   "language": "python",
   "name": "python2"
  },
  "language_info": {
   "codemirror_mode": {
    "name": "ipython",
    "version": 2
   },
   "file_extension": ".py",
   "mimetype": "text/x-python",
   "name": "python",
   "nbconvert_exporter": "python",
   "pygments_lexer": "ipython2",
   "version": "2.7.6"
  }
 },
 "nbformat": 4,
 "nbformat_minor": 0
}
