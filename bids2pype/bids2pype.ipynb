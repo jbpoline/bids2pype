{
 "cells": [
  {
   "cell_type": "code",
   "execution_count": 3,
   "metadata": {
    "collapsed": false
   },
   "outputs": [
    {
     "data": {
      "text/plain": [
       "<module 'utils' from 'utils.pyc'>"
      ]
     },
     "execution_count": 3,
     "metadata": {},
     "output_type": "execute_result"
    }
   ],
   "source": [
    "from __future__ import print_function, division\n",
    "import pprint\n",
    "import os \n",
    "import fnmatch\n",
    "#import errno\n",
    "import os.path as osp\n",
    "import json\n",
    "#import re\n",
    "import glob as gb\n",
    "from six import string_types\n",
    "from nipype.interfaces.base import Bunch\n",
    "\n",
    "import utils\n",
    "reload(utils)"
   ]
  },
  {
   "cell_type": "code",
   "execution_count": 4,
   "metadata": {
    "collapsed": false
   },
   "outputs": [],
   "source": [
    "pp = pprint.PrettyPrinter(indent=2)"
   ]
  },
  {
   "cell_type": "code",
   "execution_count": 5,
   "metadata": {
    "collapsed": false
   },
   "outputs": [
    {
     "name": "stdout",
     "output_type": "stream",
     "text": [
      "['/home/jb/data/bids/ds005/models/ds-005_model.json']\n"
     ]
    }
   ],
   "source": [
    "#- testing\n",
    "\n",
    "test_case_105a = {\n",
    "    'base_dir': '/home/jb/data/bids/ds105',\n",
    "    'model_pattern': \"ds-105_sub*_model.json\"\n",
    "}\n",
    "test_case_105b = {\n",
    "    'base_dir': '/home/jb/data/bids/ds105',\n",
    "    'model_pattern': \"ds-105_level-all_model.json\"\n",
    "}\n",
    "test_case_005 = {\n",
    "    'base_dir': '/home/jb/data/bids/ds005',\n",
    "    'model_pattern': \"*_model.json\"\n",
    "}\n",
    "\n",
    "test_case = test_case_005\n",
    "#test_case = test_case_105a\n",
    "#test_case = test_case_105b\n",
    "\n",
    "base_dir, model_pattern = test_case['base_dir'], test_case['model_pattern'] \n",
    "\n",
    "all_jsons = utils.glob_recursive(base_dir, model_pattern)\n",
    "print(all_jsons)\n",
    "json_model=all_jsons[0]"
   ]
  },
  {
   "cell_type": "code",
   "execution_count": 6,
   "metadata": {
    "collapsed": false
   },
   "outputs": [
    {
     "name": "stdout",
     "output_type": "stream",
     "text": [
      "base dir /home/jb/data/bids/ds005\n",
      "json_model /home/jb/data/bids/ds005/models/ds-005_model.json\n"
     ]
    }
   ],
   "source": [
    "data = utils.get_json_model_Ydata(all_jsons[0], level='Run', verbose=utils.VERB['info'])"
   ]
  },
  {
   "cell_type": "code",
   "execution_count": 7,
   "metadata": {
    "collapsed": false
   },
   "outputs": [
    {
     "name": "stdout",
     "output_type": "stream",
     "text": [
      "[ '/home/jb/data/bids/ds005/sub-01/func/sub-01_task-mixedgamblestask_run-01_bold.nii.gz',\n",
      "  '/home/jb/data/bids/ds005/sub-01/func/sub-01_task-mixedgamblestask_run-02_bold.nii.gz',\n",
      "  '/home/jb/data/bids/ds005/sub-01/func/sub-01_task-mixedgamblestask_run-03_bold.nii.gz',\n",
      "  '/home/jb/data/bids/ds005/sub-03/func/sub-03_task-mixedgamblestask_run-01_bold.nii.gz',\n",
      "  '/home/jb/data/bids/ds005/sub-03/func/sub-03_task-mixedgamblestask_run-03_bold.nii.gz',\n",
      "  '/home/jb/data/bids/ds005/sub-03/func/sub-03_task-mixedgamblestask_run-02_bold.nii.gz',\n",
      "  '/home/jb/data/bids/ds005/sub-08/func/sub-08_task-mixedgamblestask_run-02_bold.nii.gz',\n",
      "  '/home/jb/data/bids/ds005/sub-08/func/sub-08_task-mixedgamblestask_run-01_bold.nii.gz',\n",
      "  '/home/jb/data/bids/ds005/sub-08/func/sub-08_task-mixedgamblestask_run-03_bold.nii.gz',\n",
      "  '/home/jb/data/bids/ds005/sub-12/func/sub-12_task-mixedgamblestask_run-02_bold.nii.gz']\n"
     ]
    }
   ],
   "source": [
    "pp.pprint(data[:min(10, len(data))])"
   ]
  },
  {
   "cell_type": "code",
   "execution_count": 8,
   "metadata": {
    "collapsed": false
   },
   "outputs": [],
   "source": [
    "model_pattern = \"*_model.json\"\n",
    "model_data = utils.get_funcs_models(base_dir, model_pattern, verbose=utils.VERB['none'])"
   ]
  },
  {
   "cell_type": "code",
   "execution_count": 9,
   "metadata": {
    "collapsed": false
   },
   "outputs": [
    {
     "name": "stdout",
     "output_type": "stream",
     "text": [
      "{ u'Columns': { u'dummy': { u'HRFmodelling': u'Gamma',\n",
      "                            u'Level': -1,\n",
      "                            u'Variable': u'respcat'},\n",
      "                u'gain': { u'HRFmodelling': u'Gamma',\n",
      "                           u'Level': 0,\n",
      "                           u'ModulationOrder': 1,\n",
      "                           u'ModulationVar': u'RT',\n",
      "                           u'Variable': u'respcat'},\n",
      "                u'loss': { u'HRFmodelling': u'Gamma',\n",
      "                           u'Level': 1,\n",
      "                           u'ModulationVar': u'RT',\n",
      "                           u'Variable': u'respcat'}},\n",
      "  u'Contrasts': { u'pos_vs_neg_contrast': { u'Columns': [u'gain', u'loss'],\n",
      "                                            u'Weights': [1, -1]}},\n",
      "  u'DependentVariable': u'task-mixedgamblestask',\n",
      "  u'Level': u'Run'}\n"
     ]
    }
   ],
   "source": [
    "datafile = data[0]\n",
    "model_dict = model_data[datafile]\n",
    "pp.pprint(model_dict)"
   ]
  },
  {
   "cell_type": "code",
   "execution_count": 10,
   "metadata": {
    "collapsed": false
   },
   "outputs": [
    {
     "name": "stdout",
     "output_type": "stream",
     "text": [
      "/home/jb/data/bids/ds005/sub-01/func/sub-01_task-mixedgamblestask_run-01_events.tsv\n"
     ]
    }
   ],
   "source": [
    "import pandas as pd\n",
    "tsv_file = datafile.split('_bold.nii')[0] + '_events.tsv'\n",
    "assert osp.isfile(tsv_file), \"{} is not a file \".format(tsv_file)\n",
    "print(tsv_file)"
   ]
  },
  {
   "cell_type": "code",
   "execution_count": 11,
   "metadata": {
    "collapsed": false
   },
   "outputs": [],
   "source": [
    "dic = utils._get_json_dict_from_tsv_file(tsv_file)\n",
    "#utils._get_tsv_lines(dic, 'trial_type', 'chair')"
   ]
  },
  {
   "cell_type": "code",
   "execution_count": 12,
   "metadata": {
    "collapsed": false
   },
   "outputs": [
    {
     "name": "stdout",
     "output_type": "stream",
     "text": [
      "[u'Contrasts', u'DependentVariable', u'Columns', u'Level']\n",
      "{ u'dummy': { u'HRFmodelling': u'Gamma', u'Level': -1, u'Variable': u'respcat'},\n",
      "  u'gain': { u'HRFmodelling': u'Gamma',\n",
      "             u'Level': 0,\n",
      "             u'ModulationOrder': 1,\n",
      "             u'ModulationVar': u'RT',\n",
      "             u'Variable': u'respcat'},\n",
      "  u'loss': { u'HRFmodelling': u'Gamma',\n",
      "             u'Level': 1,\n",
      "             u'ModulationVar': u'RT',\n",
      "             u'Variable': u'respcat'}}\n"
     ]
    }
   ],
   "source": [
    "model_dict = model_data[datafile]\n",
    "print(model_dict.keys())\n",
    "regressors = model_dict['Columns']\n",
    "pp.pprint(regressors)"
   ]
  },
  {
   "cell_type": "code",
   "execution_count": 13,
   "metadata": {
    "collapsed": false
   },
   "outputs": [],
   "source": [
    "list_dicts = utils.get_run_conditions(datafile, model_dict)\n",
    "condition_names = list_dicts.keys()"
   ]
  },
  {
   "cell_type": "code",
   "execution_count": null,
   "metadata": {
    "collapsed": false
   },
   "outputs": [],
   "source": []
  },
  {
   "cell_type": "code",
   "execution_count": 20,
   "metadata": {
    "collapsed": false
   },
   "outputs": [
    {
     "name": "stdout",
     "output_type": "stream",
     "text": [
      "/home/jb/data/bids/ds005/sub-01/func/sub-01_task-mixedgamblestask_run-02_bold.nii.gz  : has a pb ... a condition has no event \n",
      "/home/jb/data/bids/ds005/sub-01/func/sub-01_task-mixedgamblestask_run-03_bold.nii.gz  : has a pb ... a condition has no event \n",
      "/home/jb/data/bids/ds005/sub-03/func/sub-03_task-mixedgamblestask_run-01_bold.nii.gz  : has a pb ... a condition has no event \n",
      "/home/jb/data/bids/ds005/sub-03/func/sub-03_task-mixedgamblestask_run-03_bold.nii.gz  : has a pb ... a condition has no event \n",
      "/home/jb/data/bids/ds005/sub-08/func/sub-08_task-mixedgamblestask_run-01_bold.nii.gz  : has a pb ... a condition has no event \n",
      "/home/jb/data/bids/ds005/sub-08/func/sub-08_task-mixedgamblestask_run-03_bold.nii.gz  : has a pb ... a condition has no event \n"
     ]
    }
   ],
   "source": [
    "#pp.pprint(list_dicts)\n",
    "for datafile in data[:min(10, len(data))]:\n",
    "    #print(datafile)\n",
    "    try: \n",
    "        nipype_info = utils.get_nipype_run_info(datafile, model_dict, verbose=utils.VERB['none'])\n",
    "    except:\n",
    "        print(datafile, ' : has a pb ... a condition has no event ')"
   ]
  },
  {
   "cell_type": "code",
   "execution_count": null,
   "metadata": {
    "collapsed": true
   },
   "outputs": [],
   "source": []
  },
  {
   "cell_type": "code",
   "execution_count": 15,
   "metadata": {
    "collapsed": false
   },
   "outputs": [],
   "source": [
    "#print(datafile)\n",
    "#pp.pprint(nipype_info)\n",
    "#print(nipype_info)"
   ]
  },
  {
   "cell_type": "code",
   "execution_count": 16,
   "metadata": {
    "collapsed": false
   },
   "outputs": [],
   "source": [
    "dict_regressors = utils.get_run_conditions(datafile, model_dict)#, verbose=verbose)\n",
    "condition_names = dict_regressors.keys() \n",
    "#print(dict_regressors)\n",
    "bunch = utils.make_nipype_bunches(condition_names, dict_regressors)"
   ]
  },
  {
   "cell_type": "code",
   "execution_count": 17,
   "metadata": {
    "collapsed": false
   },
   "outputs": [
    {
     "data": {
      "text/plain": [
       "Bunch(conditions=[u'dummy', u'gain', u'loss'], durations=[[3, 3, 3, 3, 3, 3, 3, 3, 3], [3, 3, 3, 3, 3, 3, 3, 3, 3, 3, 3, 3, 3, 3, 3, 3, 3, 3, 3, 3, 3, 3, 3, 3, 3, 3], [3, 3, 3, 3, 3, 3, 3, 3, 3, 3, 3, 3, 3, 3, 3, 3, 3, 3, 3, 3, 3, 3, 3, 3, 3, 3, 3, 3, 3, 3, 3, 3, 3, 3, 3, 3, 3, 3, 3, 3, 3, 3, 3, 3, 3, 3, 3, 3, 3, 3]], onsets=[[0.0, 4.0, 8.0, 12.0, 16.0, 84.0, 184.0, 330.0, 448.0], [48.0, 56.0, 60.0, 64.0, 72.0, 76.0, 88.0, 98.0, 132.0, 136.0, 166.0, 194.0, 216.0, 240.0, 250.0, 262.0, 294.0, 322.0, 326.0, 364.0, 400.0, 404.0, 426.0, 440.0, 444.0, 460.0], [24.0, 28.0, 32.0, 36.0, 40.0, 44.0, 94.0, 102.0, 106.0, 110.0, 120.0, 146.0, 150.0, 154.0, 162.0, 176.0, 180.0, 200.0, 204.0, 208.0, 212.0, 220.0, 226.0, 236.0, 244.0, 258.0, 274.0, 282.0, 286.0, 298.0, 304.0, 316.0, 334.0, 342.0, 348.0, 358.0, 368.0, 372.0, 378.0, 384.0, 390.0, 396.0, 408.0, 412.0, 422.0, 432.0, 436.0, 452.0, 468.0, 474.0]], pmod=[[], [Bunch(name=u'RT', param=[1.4259999999999999, 2.2160000000000002, 1.9530000000000001, 2.73, 1.337, 1.1930000000000001, 2.7570000000000001, 1.754, 1.635, 2.0739999999999998, 1.29, 1.736, 2.012, 2.52, 1.4530000000000001, 1.1499999999999999, 1.161, 1.9830000000000001, 2.528, 2.2250000000000001, 2.3999999999999999, 2.1440000000000001, 1.504, 1.724, 2.0329999999999999, 1.778], poly=1), None], [Bunch(name=u'RT', param=[1.7480000000000002, 1.841, 1.371, 1.411, 1.4169999999999998, 1.73, 1.7350000000000001, 2.5699999999999998, 2.0659999999999998, 1.359, 1.8180000000000001, 1.7370000000000001, 1.3779999999999999, 1.8740000000000001, 1.24, 1.395, 1.796, 1.75, 1.4970000000000001, 1.0680000000000001, 0.91800000000000004, 1.157, 2.339, 1.4830000000000001, 2.3080000000000003, 1.367, 1.2669999999999999, 1.2509999999999999, 1.415, 1.8089999999999999, 2.5219999999999998, 1.8169999999999999, 1.1870000000000001, 2.0840000000000001, 2.29, 1.7110000000000001, 1.7609999999999999, 1.3400000000000001, 2.923, 1.2569999999999999, 1.5, 1.181, 1.028, 1.72, 1.7929999999999999, 1.004, 1.296, 1.371, 1.742, 1.6120000000000001], poly=1), None]])"
      ]
     },
     "execution_count": 17,
     "metadata": {},
     "output_type": "execute_result"
    }
   ],
   "source": [
    "bunch"
   ]
  },
  {
   "cell_type": "markdown",
   "metadata": {},
   "source": [
    "### copy a ds tree with only the json and tsv files"
   ]
  },
  {
   "cell_type": "code",
   "execution_count": 18,
   "metadata": {
    "collapsed": false
   },
   "outputs": [],
   "source": [
    "source_dir = '/home/jb/data/bids/ds005'\n",
    "dest_dir = '/home/jb/code/bids2pype/bids2pype/tests/data/ds005'\n",
    "# utils.create_empty_bids(source_dir, dest_dir, ['*.json','*.tsv'])"
   ]
  },
  {
   "cell_type": "code",
   "execution_count": null,
   "metadata": {
    "collapsed": true
   },
   "outputs": [],
   "source": []
  }
 ],
 "metadata": {
  "kernelspec": {
   "display_name": "Python 2",
   "language": "python",
   "name": "python2"
  },
  "language_info": {
   "codemirror_mode": {
    "name": "ipython",
    "version": 2
   },
   "file_extension": ".py",
   "mimetype": "text/x-python",
   "name": "python",
   "nbconvert_exporter": "python",
   "pygments_lexer": "ipython2",
   "version": "2.7.6"
  }
 },
 "nbformat": 4,
 "nbformat_minor": 0
}
