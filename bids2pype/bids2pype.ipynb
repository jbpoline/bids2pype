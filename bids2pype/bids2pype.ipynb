{
 "cells": [
  {
   "cell_type": "code",
   "execution_count": 1,
   "metadata": {
    "collapsed": false
   },
   "outputs": [
    {
     "data": {
      "text/plain": [
       "<module 'utils' from 'utils.pyc'>"
      ]
     },
     "execution_count": 1,
     "metadata": {},
     "output_type": "execute_result"
    }
   ],
   "source": [
    "from __future__ import print_function, division\n",
    "import numpy as np\n",
    "import pprint\n",
    "import os \n",
    "import fnmatch\n",
    "import os.path as osp\n",
    "import json\n",
    "import glob as gb\n",
    "from six import string_types\n",
    "from nipype.interfaces.base import Bunch\n",
    "\n",
    "import utils\n",
    "reload(utils)"
   ]
  },
  {
   "cell_type": "code",
   "execution_count": 2,
   "metadata": {
    "collapsed": false
   },
   "outputs": [],
   "source": [
    "pp = pprint.PrettyPrinter(indent=2)"
   ]
  },
  {
   "cell_type": "code",
   "execution_count": 3,
   "metadata": {
    "collapsed": false
   },
   "outputs": [
    {
     "name": "stdout",
     "output_type": "stream",
     "text": [
      "{'model_pattern': 'ds-005_type-russ*_model.json', 'base_dir': '/home/jb/code/bids2pype/bids2pype/tests/data/ds005'}\n"
     ]
    }
   ],
   "source": [
    "#- testing\n",
    "\n",
    "test_case_105a = {\n",
    "    'base_dir': '/home/jb/data/bids/ds105',\n",
    "    'model_pattern': \"ds-105_level-run_sub*_model.json\"\n",
    "}\n",
    "test_case_105b = {\n",
    "    'base_dir': '/home/jb/data/bids/ds105',\n",
    "    'model_pattern': \"ds-105_level-all_model.json\"\n",
    "}\n",
    "test_case_005 = {\n",
    "    'base_dir': '/home/jb/data/bids/ds005',\n",
    "    'model_pattern': \"*_model.json\"\n",
    "}\n",
    "test_case_005r = {\n",
    "    'base_dir': '/home/jb/data/bids/ds005',\n",
    "    'model_pattern': \"ds-005_type-russ*_model.json\"\n",
    "}\n",
    "\n",
    "test_case_005t = {\n",
    "    'base_dir': '/home/jb/code/bids2pype/bids2pype/tests/data/ds005',\n",
    "    'model_pattern': \"ds-005_type-russ*_model.json\"\n",
    "}\n",
    "\n",
    "\n",
    "#test_case = test_case_005\n",
    "#test_case = test_case_005r\n",
    "test_case = test_case_005t\n",
    "\n",
    "#test_case = test_case_105a\n",
    "#test_case = test_case_105b\n",
    "\n",
    "base_dir, model_pattern = test_case['base_dir'], test_case['model_pattern'] \n",
    "print(test_case) "
   ]
  },
  {
   "cell_type": "markdown",
   "metadata": {},
   "source": [
    "## Association between data and model "
   ]
  },
  {
   "cell_type": "code",
   "execution_count": 4,
   "metadata": {
    "collapsed": false
   },
   "outputs": [
    {
     "name": "stdout",
     "output_type": "stream",
     "text": [
      "/home/jb/code/bids2pype/bids2pype/tests/data/ds005/sub-01/func/sub-01_task-mixedgamblestask_run-01_bold.nii.gz\n",
      "[u'param-loss-neg', u'param-gain', u'task>Baseline']\n"
     ]
    }
   ],
   "source": [
    "assos_model_data = utils.associate_model_data(base_dir, model_pattern, \n",
    "                                                  verbose=utils.VERB['none'])\n",
    "data_dict = assos_model_data['data_dict']\n",
    "\n",
    "#print(assos_model_data)\n",
    "datafile = sorted(data_dict.keys())[0]\n",
    "print(datafile)\n",
    "pp.pprint(data_dict[datafile]['Contrasts'].keys())"
   ]
  },
  {
   "cell_type": "markdown",
   "metadata": {},
   "source": [
    "## Read data and export as nipype data structures"
   ]
  },
  {
   "cell_type": "code",
   "execution_count": 5,
   "metadata": {
    "collapsed": false
   },
   "outputs": [
    {
     "data": {
      "text/plain": [
       "[(u'param-loss-neg', u'T', [u'param-loss'], [-1]),\n",
       " (u'task>Baseline', u'T', [u'task'], [1]),\n",
       " (u'param-gain', u'T', [u'param-gain'], [1])]"
      ]
     },
     "execution_count": 5,
     "metadata": {},
     "output_type": "execute_result"
    }
   ],
   "source": [
    "model_dict = data_dict[datafile]\n",
    "utils._get_nipype_contrasts(model_dict)"
   ]
  },
  {
   "cell_type": "code",
   "execution_count": 6,
   "metadata": {
    "collapsed": false
   },
   "outputs": [],
   "source": [
    "mvt = np.loadtxt(base_dir + '/derivatives/mcflirt/par/_runcode_1/_subject_id_sub-01/' + \\\n",
    "                                    'sub-01_task-mixedgamblestask_run-01_bold_mcf.nii.gz.par')"
   ]
  },
  {
   "cell_type": "code",
   "execution_count": 7,
   "metadata": {
    "collapsed": false
   },
   "outputs": [
    {
     "data": {
      "text/plain": [
       "array([ 0.00147019,  0.00082571,  0.00144829,  0.00105914,  0.00170214,\n",
       "        0.00131321,  0.00124525,  0.00143436,  0.00138788,  0.00097287])"
      ]
     },
     "execution_count": 7,
     "metadata": {},
     "output_type": "execute_result"
    }
   ],
   "source": [
    "mvt[:10,0]\n"
   ]
  },
  {
   "cell_type": "code",
   "execution_count": 8,
   "metadata": {
    "collapsed": false,
    "scrolled": true
   },
   "outputs": [
    {
     "name": "stdout",
     "output_type": "stream",
     "text": [
      "\n",
      "\n",
      "/home/jb/code/bids2pype/bids2pype/tests/data/ds005/sub-01/func/sub-01_task-mixedgamblestask_run-01_bold.nii.gz\n",
      "/home/jb/code/bids2pype/bids2pype/tests/data/ds005/sub-01/func/sub-01_task-mixedgamblestask_run-02_bold.nii.gz\n",
      "/home/jb/code/bids2pype/bids2pype/tests/data/ds005/sub-16/func/sub-16_task-mixedgamblestask_run-03_bold.nii.gz\n",
      "conditions: [u'task', u'param-loss', u'param-rt', u'param-gain']\n",
      "[u'motion-param_01', u'motion-param_02', u'motion-param_03', u'motion-param_04', u'motion-param_05', u'motion-param_06', u'motion-param_01_deriv', u'motion-param_02_deriv', u'motion-param_03_deriv', u'motion-param_04_deriv', u'motion-param_05_deriv', u'motion-param_06_deriv']\n",
      "Regressors shape: (240,)\n",
      "[ 0.00147019  0.00082571  0.00144829  0.00105914  0.00170214  0.00131321\n",
      "  0.00124525  0.00143436  0.00138788  0.00097287  0.00119608  0.00086367\n",
      "  0.00112919  0.00086367  0.00124277  0.00086367  0.00147362  0.00093246\n",
      "  0.0011265   0.00094951  0.00114544  0.00061997  0.00053421  0.00073343\n",
      "  0.00095761  0.00069301  0.00050976  0.00079511  0.00046963  0.00050397\n",
      "  0.00019232  0.00064085  0.00058885]\n",
      "[ 0.00093506  0.00090403  0.00090403  0.00081357  0.00090403  0.00087237\n",
      "  0.00099173  0.00099173  0.00083422  0.00081583  0.00099173  0.00075172\n",
      "  0.00062133  0.00088575  0.00061877  0.00099173  0.00079285  0.00079926\n",
      "  0.00074652  0.00066565  0.00079928  0.00060085  0.00079098  0.00075582\n",
      "  0.00081757  0.00087828  0.00079562  0.00079562  0.00071282  0.00053001\n",
      "  0.00058245  0.00041475  0.0006772 ]\n"
     ]
    }
   ],
   "source": [
    "specifymodel_inputs, bunches, data = \\\n",
    "    utils._get_nipype_specify_model_inputs(base_dir, model_pattern, bunch_type='fsl', \n",
    "                                                                 verbose=utils.VERB['none'])\n",
    "\n",
    "    \n",
    "sorted_bunch = [b for (d,b) in sorted(zip(data, bunches))]\n",
    "sorted_data = sorted(data)\n",
    "        \n",
    "#print(specifymodel_inputs)\n",
    "#print('\\n')\n",
    "#print(data[0])\n",
    "print('\\n')\n",
    "print(sorted_data[0]) \n",
    "print(sorted_data[1]) \n",
    "print(sorted_data[-1]) \n",
    "\n",
    "print('conditions:', sorted_bunch[0].conditions)\n",
    "#print(sorted_bunch[0].conditions[3])\n",
    "#print(sorted_bunch[0].amplitudes[3])\n",
    "#print(index_gain)\n",
    "print((sorted_bunch[0].regressor_names))\n",
    "print('Regressors shape:', sorted_bunch[0].regressors[0].shape)\n",
    "print((sorted_bunch[0].regressors[0][:33]))\n",
    "print((sorted_bunch[0].regressors[1][:33]))\n"
   ]
  },
  {
   "cell_type": "markdown",
   "metadata": {},
   "source": [
    "### copy a ds tree with only the json and tsv files"
   ]
  },
  {
   "cell_type": "code",
   "execution_count": 9,
   "metadata": {
    "collapsed": false
   },
   "outputs": [],
   "source": [
    "source_dir = '/home/jb/data/bids/ds005'\n",
    "dest_dir = '/home/jb/code/bids2pype/bids2pype/tests/data/ds005'\n",
    "#utils.create_empty_bids(source_dir, dest_dir, ['*.json','*.tsv', '*.par'])"
   ]
  },
  {
   "cell_type": "code",
   "execution_count": null,
   "metadata": {
    "collapsed": true
   },
   "outputs": [],
   "source": []
  }
 ],
 "metadata": {
  "kernelspec": {
   "display_name": "Python 2",
   "language": "python",
   "name": "python2"
  },
  "language_info": {
   "codemirror_mode": {
    "name": "ipython",
    "version": 2
   },
   "file_extension": ".py",
   "mimetype": "text/x-python",
   "name": "python",
   "nbconvert_exporter": "python",
   "pygments_lexer": "ipython2",
   "version": "2.7.6"
  }
 },
 "nbformat": 4,
 "nbformat_minor": 0
}
